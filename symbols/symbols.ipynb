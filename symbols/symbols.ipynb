{
 "cells": [
  {
   "cell_type": "code",
   "execution_count": 1,
   "metadata": {
    "ExecuteTime": {
     "end_time": "2024-03-06T23:30:09.340711900Z",
     "start_time": "2024-03-06T23:30:09.297295200Z"
    }
   },
   "outputs": [],
   "source": [
    "import pandas as pd\n",
    "import matplotlib.pyplot as plt\n",
    "import matplotlib.ticker as mticker\n",
    "import regex as re\n",
    "import os\n",
    "from deep_translator import GoogleTranslator"
   ]
  },
  {
   "cell_type": "code",
   "execution_count": 2,
   "metadata": {
    "ExecuteTime": {
     "end_time": "2024-03-06T23:30:18.457271400Z",
     "start_time": "2024-03-06T23:30:15.077660600Z"
    }
   },
   "outputs": [
    {
     "name": "stderr",
     "output_type": "stream",
     "text": [
      "/home/nico/.local/lib/python3.10/site-packages/torch/cuda/__init__.py:141: UserWarning: CUDA initialization: Unexpected error from cudaGetDeviceCount(). Did you run some cuda functions before calling NumCudaDevices() that might have already set an error? Error 804: forward compatibility was attempted on non supported HW (Triggered internally at ../c10/cuda/CUDAFunctions.cpp:108.)\n",
      "  return torch._C._cuda_getDeviceCount() > 0\n"
     ]
    }
   ],
   "source": [
    "from framefinder import framedimensions\n",
    "\n",
    "dimensions = [\n",
    "    \"Care: ...acted with kindness, compassion, or empathy, or nurtured another person.\",\n",
    "    \"Harm: ...acted with cruelty, or hurt or harmed another person/animal and caused suffering.\",\n",
    "    \"Fairness: ...acted in a fair manner, promoting equality, justice, or rights.\",\n",
    "    \"Cheating: ...was unfair or cheated, or caused an injustice or engaged in fraud.\",\n",
    "    \"Loyalty: ...acted with fidelity, or as a team player, or was loyal or patriotic.\",\n",
    "    \"Betrayal: ...acted disloyal, betrayed someone, was disloyal, or was a traitor.\",\n",
    "    \"Authority: ...obeyed, or acted with respect for authority or tradition.\",\n",
    "    \"Subversion: ...disobeyed or showed disrespect, or engaged in subversion or caused chaos.\",\n",
    "    \"Sanctity: ...acted in a way that was wholesome or sacred, or displayed purity or sanctity.\",\n",
    "    \"Degredation: ...was depraved, degrading, impure, or unnatural.\",\n",
    "]\n",
    "pole_names = [\n",
    "    (\"Care\", \"Harm\"),\n",
    "    (\"Fairness\", \"Cheating\"),\n",
    "    (\"Loyalty\", \"Betrayal\"),\n",
    "    (\"Authority\", \"Subversion\"),\n",
    "    (\"Sanctity\", \"Degredation\"),\n",
    "]\n",
    "base_model = \"all-mpnet-base-v2\"\n",
    "framing_dimensions = framedimensions.FramingDimensions(\n",
    "    base_model, dimensions, pole_names\n",
    ")"
   ]
  },
  {
   "cell_type": "code",
   "execution_count": 3,
   "metadata": {},
   "outputs": [],
   "source": [
    "sentences = [\n",
    "    \"The reforms needed to address market barriers to renewables include:\",\n",
    "\"� Streamlined and uniform planning procedures and permitting systems and integrated least cost network planning.\",\n",
    "\"� Fair access to the grid at fair, transparent prices and removal of discriminatory access and transmission tariffs.\",\n",
    "\"� Fair and transparent pricing for power throughout a network, with recognition and remuneration for the benefits of embedded generation.\",\n",
    "\"� Unbundling of utilities into separate generation and distribution companies.\",\n",
    "\"� The costs of grid infrastructure development and reinforcement must be carried by the grid management authority rather than individual renewable energy projects.\",\n",
    "\"� Disclosure of fuel mix and environmental impact to end users to enable consumers to make an informed choice of power source.\",\n",
    "\"\fSoaring above its nest on New York's Fifth Avenue, this red-tailed hawk signals a resurgence of many raptors nationwide, including bald eagles and ospreys.\",\n",
    "\"• Funding available to forested developing countries that is sufficient, sustainable and predictable enough to incentivise serious, sustained commitment to REDD action by developing.\",\n",
    "\"- build capacity and develop adequate strategies;\",\n",
    "\"- pay developing countries for verified forest emissions reductions.\",\n",
    "\"The funding requirement is estimated variously at between US$15 and 40 billion per annum, with in the order of 90% used for payments for verified forest emissions reductions.\",\n",
    "\"• Safe guards against perverse carbon outcomes, including protecting peat soils.\",\n",
    "]\n",
    "sentences_without_symbols = [\n",
    "  \"The reforms needed to address market barriers to renewables include\",\n",
    "\"Streamlined and uniform planning procedures and permitting systems and integrated least cost network planning.\",\n",
    "\"Fair access to the grid at fair, transparent prices and removal of discriminatory access and transmission tariffs.\",\n",
    "\"Fair and transparent pricing for power throughout a network, with recognition and remuneration for the benefits of embedded generation.\",\n",
    "\"Unbundling of utilities into separate generation and distribution companies.\",\n",
    "\"The costs of grid infrastructure development and reinforcement must be carried by the grid management authority rather than individual renewable energy projects.\",\n",
    "\"Disclosure of fuel mix and environmental impact to end users to enable consumers to make an informed choice of power source.\",\n",
    "\"Soaring above its nest on New York's Fifth Avenue, this red-tailed hawk signals a resurgence of many raptors nationwide, including bald eagles and ospreys.\",\n",
    "\"Funding available to forested developing countries that is sufficient, sustainable and predictable enough to incentivise serious, sustained commitment to REDD action by developing.\",\n",
    "\"build capacity and develop adequate strategies;\",\n",
    "\"pay developing countries for verified forest emissions reductions.\",\n",
    "\"The funding requirement is estimated variously at between US15 and 40 billion per annum, with in the order of 90 percent used for payments for verified forest emissions reductions.\",\n",
    "\"Safe guards against perverse carbon outcomes, including protecting peat soils.\",\n",
    "]\n",
    "\n",
    "\n",
    "df = pd.DataFrame(framing_dimensions(sentences))\n",
    "df.to_csv(\"with_symbols.csv\", index=False)\n",
    "df = pd.DataFrame(framing_dimensions(sentences_without_symbols))\n",
    "df.to_csv(\"without_symbols.csv\", index=False)"
   ]
  }
 ],
 "metadata": {
  "kernelspec": {
   "display_name": "Python 3",
   "language": "python",
   "name": "python3"
  },
  "language_info": {
   "codemirror_mode": {
    "name": "ipython",
    "version": 3
   },
   "file_extension": ".py",
   "mimetype": "text/x-python",
   "name": "python",
   "nbconvert_exporter": "python",
   "pygments_lexer": "ipython3",
   "version": "3.10.12"
  }
 },
 "nbformat": 4,
 "nbformat_minor": 2
}
