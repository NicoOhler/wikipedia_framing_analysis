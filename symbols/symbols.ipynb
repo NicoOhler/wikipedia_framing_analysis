{
 "cells": [
  {
   "cell_type": "code",
   "execution_count": 6,
   "metadata": {},
   "outputs": [],
   "source": [
    "import pandas as pd"
   ]
  },
  {
   "cell_type": "code",
   "execution_count": 7,
   "metadata": {
    "ExecuteTime": {
     "end_time": "2024-03-06T23:30:18.457271400Z",
     "start_time": "2024-03-06T23:30:15.077660600Z"
    }
   },
   "outputs": [],
   "source": [
    "from framefinder import framedimensions\n",
    "\n",
    "dimensions = [\n",
    "    \"Care: ...acted with kindness, compassion, or empathy, or nurtured another person.\",\n",
    "    \"Harm: ...acted with cruelty, or hurt or harmed another person/animal and caused suffering.\",\n",
    "    \"Fairness: ...acted in a fair manner, promoting equality, justice, or rights.\",\n",
    "    \"Cheating: ...was unfair or cheated, or caused an injustice or engaged in fraud.\",\n",
    "    \"Loyalty: ...acted with fidelity, or as a team player, or was loyal or patriotic.\",\n",
    "    \"Betrayal: ...acted disloyal, betrayed someone, was disloyal, or was a traitor.\",\n",
    "    \"Authority: ...obeyed, or acted with respect for authority or tradition.\",\n",
    "    \"Subversion: ...disobeyed or showed disrespect, or engaged in subversion or caused chaos.\",\n",
    "    \"Sanctity: ...acted in a way that was wholesome or sacred, or displayed purity or sanctity.\",\n",
    "    \"Degredation: ...was depraved, degrading, impure, or unnatural.\",\n",
    "]\n",
    "pole_names = [\n",
    "    (\"Care\", \"Harm\"),\n",
    "    (\"Fairness\", \"Cheating\"),\n",
    "    (\"Loyalty\", \"Betrayal\"),\n",
    "    (\"Authority\", \"Subversion\"),\n",
    "    (\"Sanctity\", \"Degredation\"),\n",
    "]\n",
    "base_model = \"all-mpnet-base-v2\"\n",
    "framing_dimensions = framedimensions.FramingDimensions(\n",
    "    base_model, dimensions, pole_names\n",
    ")"
   ]
  },
  {
   "cell_type": "code",
   "execution_count": 14,
   "metadata": {},
   "outputs": [],
   "source": [
    "import regex as re\n",
    "\n",
    "\"\"\" TODO\n",
    " {FAQ 9.2, Figure 1}  \n",
    "{6.6, 8.6, 9.6, Box 10.2}\n",
    "{10.7}\n",
    "lines with a number as first character ~ page numbers (1\\n, 5. sentence..., 12.2.1)\n",
    "a), b), c), d) with whitespace character in front\n",
    "(a), (b), ...\n",
    "B.3.2\n",
    "roman numbers iii)\n",
    "citation \", '\n",
    "»» \n",
    "\\{.*\\}\n",
    "(A|C|B|D)\\.( )?((1|2|3|4|5|6|7|8|9)(\\.(1|2|3|4|5|6|7|8|9))?)?\n",
    "\"\"\"\n",
    "\n",
    "def filter_special_characters(texts, remove_newlines=True):\n",
    "    if type(texts) == str:\n",
    "        texts = [texts]\n",
    "    for text in texts:\n",
    "        # remove non-ascii characters, purposely replaced since sometimes situations like \"word1�word2\" occur\n",
    "        text = re.sub(r\"�\", \" \", text)  \n",
    "        # fuse split words in multiple lines e.g. \"syllab-\\nle\"\n",
    "        text = re.sub(r\"-\\n\", \"\", text)  \n",
    "        # remove enumerations\n",
    "        text = re.sub(r\"\\*|•|■|▪|-|❖|►|>>||<<|□□\", \"\", text)\n",
    "        if remove_newlines:\n",
    "            # fuses titles, headers, footers, etc. to as single sentence => better normalization\n",
    "            # also prevent single sentences from being split to multiple ones by newlines\n",
    "            text = re.sub(r\"\\n|\\t\", \" \", text)\n",
    "\n",
    "        # ? should %, $, £, € be removed?\n",
    "    return texts\n"
   ]
  },
  {
   "cell_type": "code",
   "execution_count": 18,
   "metadata": {},
   "outputs": [],
   "source": [
    "sentences = [\n",
    "\"Does capitalization change the framing?\",\n",
    "\"Does \\\"citation\\\" \\'change\\' the framing?\",\n",
    "\"co-sponsored\",\n",
    "\"state-of-the-art\",\n",
    "\"The reforms needed to address market barriers to renewables include:\",\n",
    "\"� Streamlined and uniform planning procedures and permitting systems and integrated least cost network planning.\",\n",
    "\"� Fair access to the grid at fair, transparent prices and removal of discriminatory access and transmission tariffs.\",\n",
    "\"� Fair and transparent pricing for power throughout a network, with recognition and remuneration for the benefits of embedded generation.\",\n",
    "\"� Unbundling of utilities into separate generation and distribution companies.\",\n",
    "\"� The costs of grid infrastructure development and reinforcement must be carried by the grid management authority rather than individual renewable energy projects.\",\n",
    "\"� Disclosure of fuel mix and environmental impact to end users to enable consumers to make an informed choice of power source.\",\n",
    "\"\fSoaring above its nest on New York's Fifth Avenue, this red-tailed hawk signals a resurgence of many raptors nationwide, including bald eagles and ospreys.\",\n",
    "\"• Funding available to forested developing countries that is sufficient, sustainable and predictable enough to incentivise serious, sustained commitment to REDD action by developing.\",\n",
    "\"- build capacity and develop adequate strategies;\",\n",
    "\"- pay developing countries for verified forest emissions reductions.\",\n",
    "\"The funding requirement is estimated variously at between US$15 and 40 billion per annum, with in the order of 90% used for payments for verified forest emissions reductions.\",\n",
    "\"• Safe guards against perverse carbon outcomes, including protecting peat soils.\",\n",
    "]\n",
    "sentences_without_symbols = [\n",
    "  \"DOES CAPITALIZATION CHANGE THE FRAMING?\",\n",
    "\"Does citation change the framing?\",\n",
    "\"co sponsored\",\n",
    "\"state of the art\",\n",
    "\"The reforms needed to address market barriers to renewables include\",\n",
    "\"Streamlined and uniform planning procedures and permitting systems and integrated least cost network planning.\",\n",
    "\"Fair access to the grid at fair, transparent prices and removal of discriminatory access and transmission tariffs.\",\n",
    "\"Fair and transparent pricing for power throughout a network, with recognition and remuneration for the benefits of embedded generation.\",\n",
    "\"Unbundling of utilities into separate generation and distribution companies.\",\n",
    "\"The costs of grid infrastructure development and reinforcement must be carried by the grid management authority rather than individual renewable energy projects.\",\n",
    "\"Disclosure of fuel mix and environmental impact to end users to enable consumers to make an informed choice of power source.\",\n",
    "\"Soaring above its nest on New York's Fifth Avenue, this red-tailed hawk signals a resurgence of many raptors nationwide, including bald eagles and ospreys.\",\n",
    "\"Funding available to forested developing countries that is sufficient, sustainable and predictable enough to incentivise serious, sustained commitment to REDD action by developing.\",\n",
    "\"build capacity and develop adequate strategies;\",\n",
    "\"pay developing countries for verified forest emissions reductions.\",\n",
    "\"The funding requirement is estimated variously at between US15 and 40 billion per annum, with in the order of 90 percent used for payments for verified forest emissions reductions.\",\n",
    "\"Safe guards against perverse carbon outcomes, including protecting peat soils.\",\n",
    "]\n",
    "\n",
    "\n",
    "df = pd.DataFrame(framing_dimensions(sentences))\n",
    "df.to_csv(\"with_symbols.csv\", index=False)\n",
    "df = pd.DataFrame(framing_dimensions(sentences_without_symbols))\n",
    "df.to_csv(\"without_symbols.csv\", index=False)"
   ]
  }
 ],
 "metadata": {
  "kernelspec": {
   "display_name": "Python 3",
   "language": "python",
   "name": "python3"
  },
  "language_info": {
   "codemirror_mode": {
    "name": "ipython",
    "version": 3
   },
   "file_extension": ".py",
   "mimetype": "text/x-python",
   "name": "python",
   "nbconvert_exporter": "python",
   "pygments_lexer": "ipython3",
   "version": "3.10.12"
  }
 },
 "nbformat": 4,
 "nbformat_minor": 2
}
