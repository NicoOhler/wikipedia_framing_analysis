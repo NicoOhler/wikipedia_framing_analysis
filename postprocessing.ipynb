{
 "cells": [
  {
   "metadata": {
    "ExecuteTime": {
     "end_time": "2025-03-30T13:09:17.392695Z",
     "start_time": "2025-03-30T13:09:14.191882Z"
    }
   },
   "cell_type": "code",
   "source": [
    "import os as os\n",
    "import pandas as pd\n",
    "import matplotlib.pyplot as plt\n",
    "from collections import defaultdict\n",
    "\n"
   ],
   "id": "5850d4f01abb395b",
   "outputs": [],
   "execution_count": 2
  },
  {
   "cell_type": "code",
   "id": "initial_id",
   "metadata": {
    "collapsed": true,
    "ExecuteTime": {
     "end_time": "2025-03-30T13:40:03.259489Z",
     "start_time": "2025-03-30T13:40:03.254451Z"
    }
   },
   "source": [
    "\"\"\"combine the files from the lowest directory into one file\"\"\"\n",
    "\"\"\"depth = 1 means it combines all files from the second to last directory\"\"\"\n",
    "\"\"\"depth = 0 means it combines all files from the last directory\"\"\"\n",
    "def combine_files_by_organisation(output_dir, root_path,depth = 1):\n",
    "    os.makedirs(output_dir, exist_ok=True) \n",
    "    if depth == 1:\n",
    "        for folder_org in sorted(os.listdir(root_path)):  \n",
    "            org_path = os.path.join(root_path, folder_org)\n",
    "            combined_df = []\n",
    "            output_file = os.path.join(output_dir, f\"{folder_org}.csv\")\n",
    "            #Combine files from each subdirectory\n",
    "            for sub_dir in sorted(os.listdir(org_path)):\n",
    "                sub_path = os.path.join(org_path, sub_dir)\n",
    "                if os.path.isdir(sub_path):\n",
    "                    for filename in sorted(os.listdir(sub_path)):\n",
    "                        file_path = os.path.join(sub_path, filename)\n",
    "                        if os.path.isfile(file_path) and file_path.endswith(\".csv\"):\n",
    "                            df = pd.read_csv(file_path)\n",
    "                            combined_df.append(df)\n",
    "            if combined_df:\n",
    "                final_df = pd.concat(combined_df, ignore_index=True)\n",
    "                final_df.to_csv(output_file, index=False)\n",
    "                print(f\"CSV saved to: {output_file}\")\n",
    "            else:\n",
    "                print(f\"No CSV files found.\")\n",
    "            \n",
    "    if depth == 0:\n",
    "        for folder_org in sorted(os.listdir(root_path)):  \n",
    "            org_path = os.path.join(root_path, folder_org)\n",
    "            for root, dirs, files in os.walk(org_path):\n",
    "                if not dirs:  # If there are no subdirectories, this is a last-level directory\n",
    "                    combined_df = []\n",
    "                    last_level_name = os.path.basename(root)\n",
    "                    output_file = os.path.join(output_dir, f\"{last_level_name}.csv\")\n",
    "                    \n",
    "                    for filename in sorted(files):\n",
    "                        file_path = os.path.join(root, filename)\n",
    "                        if file_path.endswith(\".csv\"):\n",
    "                            df = pd.read_csv(file_path)\n",
    "                            combined_df.append(df)\n",
    "                    \n",
    "                    if combined_df:\n",
    "                        final_df = pd.concat(combined_df, ignore_index=True)\n",
    "                        final_df.to_csv(output_file, index=False)\n",
    "                        print(f\"CSV saved to: {output_file}\")\n",
    "                    else:\n",
    "                        print(f\"No CSV files found in {root}.\")\n",
    "        "
   ],
   "outputs": [],
   "execution_count": 28
  },
  {
   "metadata": {
    "ExecuteTime": {
     "end_time": "2025-03-29T21:42:38.239891Z",
     "start_time": "2025-03-29T21:42:21.705935Z"
    }
   },
   "cell_type": "code",
   "source": [
    "input_path = \"new_cluster/original_labels/by_org\"  \n",
    "output_path = \"new_cluster/custom_files/labels\"  \n",
    "\n",
    "combine_files_by_organisation(output_path, input_path)\n",
    "\n",
    "input_path = \"new_cluster/original_dimensions/by_org\"  \n",
    "output_path = \"new_cluster/custom_files/dimensions\"  \n",
    "\n",
    "combine_files_by_organisation(output_path, input_path)\n"
   ],
   "id": "d3665b20272f4782",
   "outputs": [
    {
     "name": "stdout",
     "output_type": "stream",
     "text": [
      "CSV saved to: new_cluster/custom/labels\\IGO.csv\n",
      "CSV saved to: new_cluster/custom/labels\\NGO.csv\n",
      "CSV saved to: new_cluster/custom/labels\\Presse.csv\n"
     ]
    }
   ],
   "execution_count": 9
  },
  {
   "metadata": {
    "ExecuteTime": {
     "end_time": "2025-03-30T13:38:10.878936Z",
     "start_time": "2025-03-30T13:38:09.226033Z"
    }
   },
   "cell_type": "code",
   "source": [
    "input_path = \"new_cluster/original_labels/by_year/Presse\"  \n",
    "output_path = \"new_cluster/custom_files/labels\"  \n",
    "\n",
    "combine_files_by_organisation(output_path, input_path, depth = 0)"
   ],
   "id": "7a80cc5b968b858b",
   "outputs": [
    {
     "name": "stdout",
     "output_type": "stream",
     "text": [
      "CSV saved to: new_cluster/custom_files/labels\\2008.csv\n",
      "CSV saved to: new_cluster/custom_files/labels\\2009.csv\n",
      "CSV saved to: new_cluster/custom_files/labels\\2010.csv\n",
      "CSV saved to: new_cluster/custom_files/labels\\2014.csv\n",
      "CSV saved to: new_cluster/custom_files/labels\\2015.csv\n",
      "CSV saved to: new_cluster/custom_files/labels\\2016.csv\n",
      "CSV saved to: new_cluster/custom_files/labels\\2017.csv\n",
      "CSV saved to: new_cluster/custom_files/labels\\2020.csv\n",
      "CSV saved to: new_cluster/custom_files/labels\\2021.csv\n"
     ]
    }
   ],
   "execution_count": 25
  },
  {
   "metadata": {
    "ExecuteTime": {
     "end_time": "2025-03-30T13:40:07.096975Z",
     "start_time": "2025-03-30T13:40:05.322243Z"
    }
   },
   "cell_type": "code",
   "source": [
    "input_path = \"new_cluster/original_labels/by_year/Presse\"  \n",
    "output_path = \"new_cluster/custom_files/labels\"  \n",
    "\n",
    "combine_files_by_organisation(output_path, input_path, depth = 1)"
   ],
   "id": "3c2258eccacf5f56",
   "outputs": [
    {
     "name": "stdout",
     "output_type": "stream",
     "text": [
      "CSV saved to: new_cluster/custom_files/labels\\Presse_COP15.csv\n",
      "CSV saved to: new_cluster/custom_files/labels\\Presse_COP21.csv\n",
      "CSV saved to: new_cluster/custom_files/labels\\Presse_COP25_26.csv\n"
     ]
    }
   ],
   "execution_count": 29
  },
  {
   "metadata": {
    "ExecuteTime": {
     "end_time": "2025-03-30T13:48:01.974167Z",
     "start_time": "2025-03-30T13:48:01.968659Z"
    }
   },
   "cell_type": "code",
   "source": [
    "def plot_label_means(file_paths, custom_names, output_dir, name=\"Temp\", colors=None):\n",
    "    if not file_paths or len(file_paths) != len(custom_names):\n",
    "        print(\"Error: Ensure file_paths and custom_names are non-empty and have the same length.\")\n",
    "        return\n",
    "\n",
    "    df_list = []\n",
    "    for file_path, label in zip(file_paths, custom_names):\n",
    "        df = pd.read_csv(file_path)\n",
    "        df_mean = df.mean().to_frame(name=label)\n",
    "        df_mean.index.name = 'Label'\n",
    "        df_list.append(df_mean)\n",
    "    merged_df = pd.concat(df_list, axis=1)\n",
    "    merged_df = merged_df.iloc[::-1]\n",
    "    plt.figure(figsize=(8, 6))\n",
    "    merged_df.plot(kind='barh', figsize=(8, 6), width=0.7, color=colors)\n",
    "    \n",
    "    plt.xlabel('')\n",
    "    plt.ylabel('')\n",
    "    plt.title(name)\n",
    "    plt.legend(custom_names,loc='upper right', bbox_to_anchor=(1, 1),prop={'size': 9.5})\n",
    "    plt.tight_layout()\n",
    "    plt.xlim(0, 1)\n",
    "    for x in [0.2, 0.4, 0.6, 0.8]:\n",
    "        plt.axvline(x=x, color='grey', linestyle='--')\n",
    "    output_file = os.path.join(output_dir, f\"{name}.png\")\n",
    "    plt.savefig(output_file, bbox_inches=\"tight\")\n",
    "    plt.close()\n",
    "    print(f\"Plot saved: {output_file}\")\n"
   ],
   "id": "1a14e08417413dbc",
   "outputs": [],
   "execution_count": 31
  },
  {
   "metadata": {
    "ExecuteTime": {
     "end_time": "2025-03-29T22:41:02.345386Z",
     "start_time": "2025-03-29T22:41:01.970669Z"
    }
   },
   "cell_type": "code",
   "source": [
    "plot_name = \"NGOs vs IGOs vs Newspapers\"\n",
    "\n",
    "file_paths = [\n",
    "    \"new_cluster/custom_files/original_labels/NGO.csv\",\n",
    "    \"new_cluster/custom_files/original_labels/IGO.csv\",\n",
    "    \"new_cluster/custom_files/original_labels/Presse.csv\"\n",
    "]\n",
    "\n",
    "custom_names = [\"NGOs\", \"IGOs\", \"Newspapers\"]\n",
    "output_dir = \"new_cluster/plots/\"\n",
    "\n",
    "#colors (optional)\n",
    "custom_colors = [\"#1F77B4\", \"#FF7F0E\", \"#2CA02C\"]\n",
    "\n",
    "# Generate plot\n",
    "plot_label_means(file_paths, custom_names, output_dir, plot_name, colors=custom_colors)"
   ],
   "id": "da7f3c36123ee55e",
   "outputs": [
    {
     "name": "stdout",
     "output_type": "stream",
     "text": [
      "Plot saved: new_cluster/plots/NGOs vs IGOs vs Newspapers.png\n"
     ]
    },
    {
     "data": {
      "text/plain": [
       "<Figure size 800x600 with 0 Axes>"
      ]
     },
     "metadata": {},
     "output_type": "display_data"
    }
   ],
   "execution_count": 38
  },
  {
   "metadata": {
    "ExecuteTime": {
     "end_time": "2025-03-29T23:44:26.722343Z",
     "start_time": "2025-03-29T23:44:26.496842Z"
    }
   },
   "cell_type": "code",
   "source": [
    "plot_name = \"Left vs Right - Newspapers\"\n",
    "\n",
    "file_paths = [\n",
    "    \"new_cluster/custom_files/labels/center.csv\",\n",
    "    \"new_cluster/custom_files/labels/center-left.csv\",\n",
    "    \"new_cluster/custom_files/labels/right.csv\"\n",
    "]\n",
    "\n",
    "custom_names = [\"center\", \"center-left\", \"right\"]\n",
    "output_dir = \"new_cluster/plots/\"\n",
    "\n",
    "#colors (optional)\n",
    "custom_colors = [\"#FFA500\", \"#FF0000\", \"#0000FF\"]\n",
    "\n",
    "# Generate plot\n",
    "plot_label_means(file_paths, custom_names, output_dir, plot_name, colors=custom_colors)"
   ],
   "id": "e4f2d0bdf45b22a5",
   "outputs": [
    {
     "name": "stdout",
     "output_type": "stream",
     "text": [
      "Plot saved: new_cluster/plots/Left vs Right - Newspapers.png\n"
     ]
    },
    {
     "data": {
      "text/plain": [
       "<Figure size 800x600 with 0 Axes>"
      ]
     },
     "metadata": {},
     "output_type": "display_data"
    }
   ],
   "execution_count": 49
  },
  {
   "metadata": {
    "ExecuteTime": {
     "end_time": "2025-03-30T13:53:20.176017Z",
     "start_time": "2025-03-30T13:53:19.857662Z"
    }
   },
   "cell_type": "code",
   "source": [
    "plot_name = \"Newspapers over Time\"\n",
    "\n",
    "file_paths = [\n",
    "    \"new_cluster/custom_files/labels/2008.csv\",\n",
    "    \"new_cluster/custom_files/labels/2009.csv\",\n",
    "    \"new_cluster/custom_files/labels/2010.csv\",\n",
    "    \"new_cluster/custom_files/labels/2014.csv\",\n",
    "    \"new_cluster/custom_files/labels/2015.csv\",\n",
    "    \"new_cluster/custom_files/labels/2016.csv\",\n",
    "    \"new_cluster/custom_files/labels/2017.csv\",\n",
    "    \"new_cluster/custom_files/labels/2020.csv\",\n",
    "    \"new_cluster/custom_files/labels/2021.csv\",\n",
    "]\n",
    "\n",
    "custom_names = [\"2008\", \"2009\", \"2010\", \"2014\", \"2015\", \"2016\", \"2017\",\"2020\",\"2021\"]\n",
    "output_dir = \"new_cluster/plots/\"\n",
    "\n",
    "#colors (optional)\n",
    "custom_colors = [\"#1F77B4\", \"#FF7F0E\", \"#2CA02C\", \"#D62728\", \"#9467BD\", \"#4E372D\", \"#EBC750\", \"#7F7F7F\",\"#A6204B\"]\n",
    "\n",
    "# Generate plot\n",
    "plot_label_means(file_paths, custom_names, output_dir, plot_name,colors= custom_colors)"
   ],
   "id": "ef4e7a0ec0760659",
   "outputs": [
    {
     "name": "stdout",
     "output_type": "stream",
     "text": [
      "Plot saved: new_cluster/plots/Newspapers over Time.png\n"
     ]
    },
    {
     "data": {
      "text/plain": [
       "<Figure size 800x600 with 0 Axes>"
      ]
     },
     "metadata": {},
     "output_type": "display_data"
    }
   ],
   "execution_count": 36
  },
  {
   "metadata": {
    "ExecuteTime": {
     "end_time": "2025-03-29T23:25:28.669752Z",
     "start_time": "2025-03-29T23:25:09.136641Z"
    }
   },
   "cell_type": "code",
   "source": [
    "\n",
    "def combine_csv_by_organization(root_path, output_dir):\n",
    "    os.makedirs(output_dir, exist_ok=True)\n",
    "    for category in os.listdir(root_path):\n",
    "        category_path = os.path.join(root_path, category)\n",
    "        if not os.path.isdir(category_path):\n",
    "            continue \n",
    "        org_files = defaultdict(list)\n",
    "        for subdir, _, files in os.walk(category_path):\n",
    "            for file in files:\n",
    "                if file.endswith(\".csv\"):\n",
    "                    prefix = file.split('-')[0] \n",
    "                    org_files[prefix].append(os.path.join(subdir, file))\n",
    "        category_output_path = os.path.join(output_dir, category)\n",
    "        os.makedirs(category_output_path, exist_ok=True)\n",
    "\n",
    "        for org, file_list in org_files.items():\n",
    "            combined_data = pd.concat([pd.read_csv(f) for f in file_list], ignore_index=True)\n",
    "            output_file = os.path.join(category_output_path, f\"{org}.csv\")\n",
    "            combined_data.to_csv(output_file, index=False)\n",
    "            print(f\"Saved: {output_file}\")\n",
    "\n",
    "combine_csv_by_organization(\"new_cluster/original_dimensions/by_org\", \"new_cluster/custom_files/dimensions\")"
   ],
   "id": "e2c685def42d1d60",
   "outputs": [
    {
     "name": "stdout",
     "output_type": "stream",
     "text": [
      "Saved: new_cluster/test\\IGO\\IPCC.csv\n",
      "Saved: new_cluster/test\\IGO\\REDD.csv\n",
      "Saved: new_cluster/test\\IGO\\UNDP.csv\n",
      "Saved: new_cluster/test\\IGO\\UNEP.csv\n",
      "Saved: new_cluster/test\\IGO\\WB.csv\n",
      "Saved: new_cluster/test\\IGO\\WMO.csv\n",
      "Saved: new_cluster/test\\IGO\\WHO.csv\n",
      "Saved: new_cluster/test\\IGO\\UNCDF.csv\n",
      "Saved: new_cluster/test\\IGO\\UNFCCC.csv\n",
      "Saved: new_cluster/test\\NGO\\CG.csv\n",
      "Saved: new_cluster/test\\NGO\\EDF.csv\n",
      "Saved: new_cluster/test\\NGO\\FoEI.csv\n",
      "Saved: new_cluster/test\\NGO\\GP.csv\n",
      "Saved: new_cluster/test\\NGO\\NRDC.csv\n",
      "Saved: new_cluster/test\\NGO\\OX.csv\n",
      "Saved: new_cluster/test\\NGO\\WWF.csv\n",
      "Saved: new_cluster/test\\NGO\\Action.csv\n",
      "Saved: new_cluster/test\\NGO\\CAN.csv\n",
      "Saved: new_cluster/test\\NGO\\CARE.csv\n",
      "Saved: new_cluster/test\\NGO\\CI.csv\n",
      "Saved: new_cluster/test\\NGO\\CIDSE.csv\n",
      "Saved: new_cluster/test\\NGO\\EJF.csv\n",
      "Saved: new_cluster/test\\NGO\\GGJA.csv\n",
      "Saved: new_cluster/test\\NGO\\IBON.csv\n",
      "Saved: new_cluster/test\\NGO\\IICAT.csv\n",
      "Saved: new_cluster/test\\NGO\\OCI.csv\n",
      "Saved: new_cluster/test\\NGO\\OXFAM.csv\n",
      "Saved: new_cluster/test\\NGO\\RA.csv\n",
      "Saved: new_cluster/test\\NGO\\WRI.csv\n",
      "Saved: new_cluster/test\\Presse\\FT.csv\n",
      "Saved: new_cluster/test\\Presse\\NYT.csv\n",
      "Saved: new_cluster/test\\Presse\\Telegraph.csv\n",
      "Saved: new_cluster/test\\Presse\\Guardian.csv\n",
      "Saved: new_cluster/test\\Presse\\USAToday.csv\n"
     ]
    }
   ],
   "execution_count": 48
  }
 ],
 "metadata": {
  "kernelspec": {
   "display_name": "Python 3",
   "language": "python",
   "name": "python3"
  },
  "language_info": {
   "codemirror_mode": {
    "name": "ipython",
    "version": 2
   },
   "file_extension": ".py",
   "mimetype": "text/x-python",
   "name": "python",
   "nbconvert_exporter": "python",
   "pygments_lexer": "ipython2",
   "version": "2.7.6"
  }
 },
 "nbformat": 4,
 "nbformat_minor": 5
}
