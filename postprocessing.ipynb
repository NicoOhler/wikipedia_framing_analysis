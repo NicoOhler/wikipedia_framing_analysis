{
 "cells": [
  {
   "cell_type": "code",
   "id": "5850d4f01abb395b",
   "metadata": {
    "ExecuteTime": {
     "end_time": "2025-05-02T11:25:32.780138Z",
     "start_time": "2025-05-02T11:25:20.700759Z"
    }
   },
   "source": [
    "import os as os\n",
    "import pandas as pd\n",
    "import matplotlib.pyplot as plt\n",
    "from collections import defaultdict\n",
    "import matplotlib.colors as mcolors\n",
    "import matplotlib.patches as mpatches\n",
    "from sklearn.linear_model import LogisticRegression\n",
    "from sklearn.model_selection import train_test_split\n",
    "from sklearn.metrics import classification_report\n",
    "from sklearn.preprocessing import StandardScaler"
   ],
   "outputs": [],
   "execution_count": 3
  },
  {
   "metadata": {
    "ExecuteTime": {
     "end_time": "2025-05-04T17:23:44.033146Z",
     "start_time": "2025-05-04T17:23:42.601014Z"
    }
   },
   "cell_type": "code",
   "source": [
    "import os\n",
    "import pandas as pd\n",
    "\n",
    "def combine_csvs(input_dir, output_file):\n",
    "    all_dataframes = []\n",
    "\n",
    "    for root, _, files in os.walk(input_dir):\n",
    "        for file in files:\n",
    "            if file.endswith(\".csv\"):\n",
    "                file_path = os.path.join(root, file)\n",
    "                try:\n",
    "                    df = pd.read_csv(file_path, header=None, skiprows=2)\n",
    "                    all_dataframes.append(df)\n",
    "                except Exception as e:\n",
    "                    print(f\"Failed to read {file_path}: {e}\")\n",
    "    \n",
    "    if all_dataframes:\n",
    "        combined_df = pd.concat(all_dataframes, ignore_index=True)\n",
    "\n",
    "        with open(output_file, 'w', newline='') as f:\n",
    "            f.write(\"Care,Fairness,Loyalty,Authority,Sanctity\\n\")\n",
    "            f.write(\"Harm,Cheating,Betrayal,Subversion,Degradation\\n\")\n",
    "            combined_df.to_csv(f, header=False, index=False)\n",
    "    else:\n",
    "        print(\"No CSV files found.\")\n",
    "\n",
    "combine_csvs(\"new_cluster/original_dimensions/by_org\", \"new_cluster/custom_files/dimensions/combined_dimensions.csv\")"
   ],
   "id": "cb29a96bf8c2058d",
   "outputs": [],
   "execution_count": 10
  },
  {
   "cell_type": "code",
   "execution_count": null,
   "id": "initial_id",
   "metadata": {
    "ExecuteTime": {
     "end_time": "2025-03-31T11:44:29.819951Z",
     "start_time": "2025-03-31T11:44:29.809647Z"
    },
    "collapsed": true
   },
   "outputs": [],
   "source": [
    "\"\"\"combine the files from the lowest directory into one file\"\"\"\n",
    "\n",
    "\"\"\"depth = 1 means it combines all files from the second to last directory\"\"\"\n",
    "\"\"\"depth = 0 means it combines all files from the last directory\"\"\"\n",
    "\"\"\"label = False means 1 line header\"\"\"\n",
    "\n",
    "\n",
    "def combine_files_by_organisation(output_dir, root_path, depth=1, label=False):\n",
    "    os.makedirs(output_dir, exist_ok=True)\n",
    "    header_option = 0 if label else [0, 1]\n",
    "\n",
    "    if depth == 1:\n",
    "        for folder_org in sorted(os.listdir(root_path)):\n",
    "            org_path = os.path.join(root_path, folder_org)\n",
    "            combined_df = []\n",
    "            output_file = os.path.join(output_dir, f\"{folder_org}.csv\")\n",
    "            # Combine files from each subdirectory\n",
    "            for sub_dir in sorted(os.listdir(org_path)):\n",
    "                sub_path = os.path.join(org_path, sub_dir)\n",
    "                if os.path.isdir(sub_path):\n",
    "                    for filename in sorted(os.listdir(sub_path)):\n",
    "                        file_path = os.path.join(sub_path, filename)\n",
    "                        if os.path.isfile(file_path) and file_path.endswith(\".csv\"):\n",
    "                            df = pd.read_csv(file_path, header=header_option)\n",
    "                            combined_df.append(df)\n",
    "            if combined_df:\n",
    "                final_df = pd.concat(combined_df, ignore_index=True)\n",
    "                final_df.to_csv(output_file, index=False)\n",
    "                print(f\"CSV saved to: {output_file}\")\n",
    "            else:\n",
    "                print(f\"No CSV files found.\")\n",
    "\n",
    "    if depth == 0:\n",
    "        for folder_org in sorted(os.listdir(root_path)):\n",
    "            org_path = os.path.join(root_path, folder_org)\n",
    "            for root, dirs, files in os.walk(org_path):\n",
    "                if not dirs:  # If there are no subdirectories, this is a last-level directory\n",
    "                    combined_df = []\n",
    "                    last_level_name = os.path.basename(root)\n",
    "                    output_file = os.path.join(output_dir, f\"{last_level_name}.csv\")\n",
    "\n",
    "                    for filename in sorted(files):\n",
    "                        file_path = os.path.join(root, filename)\n",
    "                        if file_path.endswith(\".csv\"):\n",
    "                            df = pd.read_csv(file_path, header=header_option)\n",
    "                            combined_df.append(df)\n",
    "\n",
    "                    if combined_df:\n",
    "                        final_df = pd.concat(combined_df, ignore_index=True)\n",
    "                        final_df.to_csv(output_file, index=False)\n",
    "                        print(f\"CSV saved to: {output_file}\")\n",
    "                    else:\n",
    "                        print(f\"No CSV files found in {root}.\")"
   ]
  },
  {
   "cell_type": "code",
   "execution_count": null,
   "id": "d3665b20272f4782",
   "metadata": {
    "ExecuteTime": {
     "end_time": "2025-03-29T21:42:38.239891Z",
     "start_time": "2025-03-29T21:42:21.705935Z"
    }
   },
   "outputs": [
    {
     "name": "stdout",
     "output_type": "stream",
     "text": [
      "CSV saved to: new_cluster/custom/labels\\IGO.csv\n",
      "CSV saved to: new_cluster/custom/labels\\NGO.csv\n",
      "CSV saved to: new_cluster/custom/labels\\Presse.csv\n"
     ]
    }
   ],
   "source": [
    "input_path = \"new_cluster/original_labels/by_org\"\n",
    "output_path = \"new_cluster/custom_files/labels\"\n",
    "\n",
    "combine_files_by_organisation(output_path, input_path)\n",
    "\n",
    "input_path = \"new_cluster/original_dimensions/by_org\"\n",
    "output_path = \"new_cluster/custom_files/dimensions\"\n",
    "\n",
    "combine_files_by_organisation(output_path, input_path)"
   ]
  },
  {
   "cell_type": "code",
   "execution_count": null,
   "id": "7a80cc5b968b858b",
   "metadata": {
    "ExecuteTime": {
     "end_time": "2025-03-30T13:38:10.878936Z",
     "start_time": "2025-03-30T13:38:09.226033Z"
    }
   },
   "outputs": [
    {
     "name": "stdout",
     "output_type": "stream",
     "text": [
      "CSV saved to: new_cluster/custom_files/labels\\2008.csv\n",
      "CSV saved to: new_cluster/custom_files/labels\\2009.csv\n",
      "CSV saved to: new_cluster/custom_files/labels\\2010.csv\n",
      "CSV saved to: new_cluster/custom_files/labels\\2014.csv\n",
      "CSV saved to: new_cluster/custom_files/labels\\2015.csv\n",
      "CSV saved to: new_cluster/custom_files/labels\\2016.csv\n",
      "CSV saved to: new_cluster/custom_files/labels\\2017.csv\n",
      "CSV saved to: new_cluster/custom_files/labels\\2020.csv\n",
      "CSV saved to: new_cluster/custom_files/labels\\2021.csv\n"
     ]
    }
   ],
   "source": [
    "input_path = \"new_cluster/original_labels/by_year/Presse\"\n",
    "output_path = \"new_cluster/custom_files/labels\"\n",
    "\n",
    "combine_files_by_organisation(output_path, input_path, depth=0, label=True)"
   ]
  },
  {
   "cell_type": "code",
   "execution_count": null,
   "id": "5d6185e08cdfe758",
   "metadata": {
    "ExecuteTime": {
     "end_time": "2025-03-31T11:44:38.095593Z",
     "start_time": "2025-03-31T11:44:36.383907Z"
    }
   },
   "outputs": [
    {
     "name": "stdout",
     "output_type": "stream",
     "text": [
      "CSV saved to: new_cluster/custom_files/dimensions\\2008.csv\n",
      "CSV saved to: new_cluster/custom_files/dimensions\\2009.csv\n",
      "CSV saved to: new_cluster/custom_files/dimensions\\2010.csv\n",
      "CSV saved to: new_cluster/custom_files/dimensions\\2014.csv\n",
      "CSV saved to: new_cluster/custom_files/dimensions\\2015.csv\n",
      "CSV saved to: new_cluster/custom_files/dimensions\\2016.csv\n",
      "CSV saved to: new_cluster/custom_files/dimensions\\2017.csv\n",
      "CSV saved to: new_cluster/custom_files/dimensions\\2020.csv\n",
      "CSV saved to: new_cluster/custom_files/dimensions\\2021.csv\n"
     ]
    }
   ],
   "source": [
    "input_path = \"new_cluster/original_dimensions/by_year/Presse\"\n",
    "output_path = \"new_cluster/custom_files/dimensions\"\n",
    "\n",
    "combine_files_by_organisation(output_path, input_path, depth=0, label=False)"
   ]
  },
  {
   "cell_type": "code",
   "execution_count": null,
   "id": "3c2258eccacf5f56",
   "metadata": {
    "ExecuteTime": {
     "end_time": "2025-03-30T13:40:07.096975Z",
     "start_time": "2025-03-30T13:40:05.322243Z"
    }
   },
   "outputs": [
    {
     "name": "stdout",
     "output_type": "stream",
     "text": [
      "CSV saved to: new_cluster/custom_files/labels\\Presse_COP15.csv\n",
      "CSV saved to: new_cluster/custom_files/labels\\Presse_COP21.csv\n",
      "CSV saved to: new_cluster/custom_files/labels\\Presse_COP25_26.csv\n"
     ]
    }
   ],
   "source": [
    "input_path = \"new_cluster/original_labels/by_year/Presse\"\n",
    "output_path = \"new_cluster/custom_files/labels\"\n",
    "\n",
    "combine_files_by_organisation(output_path, input_path, depth=1)"
   ]
  },
  {
   "metadata": {
    "ExecuteTime": {
     "end_time": "2025-05-02T11:34:10.993407Z",
     "start_time": "2025-05-02T11:33:14.043317Z"
    }
   },
   "cell_type": "code",
   "source": [
    "import pandas as pd\n",
    "import numpy as np\n",
    "\n",
    "def load_clean_csv(path):\n",
    "    return pd.read_csv(path, skiprows=2)\n",
    "\n",
    "def compute_baseline(center_df, left_df, right_df):\n",
    "    return (center_df.mean() + left_df.mean() + right_df.mean()) / 3\n",
    "\n",
    "def compute_intensity_shift(df, baseline):\n",
    "    # Squared difference between each value and the baseline\n",
    "    squared_diff = (df - baseline) ** 2\n",
    "\n",
    "    # Assuming equal n_w for now: weight = 1 for all words\n",
    "    total_nw = len(df)  # or df.sum(axis=1) if you have actual n_w\n",
    "\n",
    "    # Multiply each squared difference by n_w (=1)\n",
    "    weighted_diff = squared_diff\n",
    "\n",
    "    # Sum over all words per frame (column-wise), then normalize\n",
    "    intensity_shift = weighted_diff.sum(axis=0) / total_nw\n",
    "\n",
    "    return intensity_shift\n",
    "\n",
    "def compute_all_shifts(center_path, left_path, right_path):\n",
    "    columns = [\"Care\", \"Fairness\", \"Loyalty\", \"Authority\", \"Sanctity\"]\n",
    "    center_df =  pd.read_csv(center_path, skiprows=2, header=None, names=columns)\n",
    "    left_df = pd.read_csv(left_path, skiprows=2, header=None, names=columns)\n",
    "    right_df = pd.read_csv(right_path, skiprows=2, header=None, names=columns)\n",
    "\n",
    "    baseline = compute_baseline(center_df, left_df, right_df)\n",
    "\n",
    "    center_shift = compute_intensity_shift(center_df, baseline)\n",
    "    left_shift = compute_intensity_shift(left_df, baseline)\n",
    "    right_shift = compute_intensity_shift(right_df, baseline)\n",
    "\n",
    "    return {\n",
    "        'baseline': baseline,\n",
    "        'center_intensity': center_shift,\n",
    "        'left_intensity': left_shift,\n",
    "        'right_intensity': right_shift\n",
    "    }\n",
    "\n",
    "compute_all_shifts(\"new_cluster/custom_files/dimensions/center.csv\",\"new_cluster/custom_files/dimensions/center-left.csv\",\"new_cluster/custom_files/dimensions/right.csv\")"
   ],
   "id": "2dfab84dffb72ad1",
   "outputs": [
    {
     "data": {
      "text/plain": [
       "{'baseline': Care         0.001218\n",
       " Fairness     0.013264\n",
       " Loyalty     -0.001620\n",
       " Authority   -0.014823\n",
       " Sanctity    -0.034730\n",
       " dtype: float64,\n",
       " 'center_intensity': Care         0.004456\n",
       " Fairness     0.003823\n",
       " Loyalty      0.006436\n",
       " Authority    0.004808\n",
       " Sanctity     0.005506\n",
       " dtype: float64,\n",
       " 'left_intensity': Care         0.004715\n",
       " Fairness     0.004077\n",
       " Loyalty      0.005989\n",
       " Authority    0.004357\n",
       " Sanctity     0.005718\n",
       " dtype: float64,\n",
       " 'right_intensity': Care         0.004562\n",
       " Fairness     0.003796\n",
       " Loyalty      0.006604\n",
       " Authority    0.004538\n",
       " Sanctity     0.006032\n",
       " dtype: float64}"
      ]
     },
     "execution_count": 11,
     "metadata": {},
     "output_type": "execute_result"
    }
   ],
   "execution_count": 11
  },
  {
   "metadata": {
    "ExecuteTime": {
     "end_time": "2025-05-04T15:16:36.036085Z",
     "start_time": "2025-05-04T15:16:35.844005Z"
    }
   },
   "cell_type": "code",
   "source": [
    "import matplotlib.pyplot as plt\n",
    "import pandas as pd\n",
    "\n",
    "# Data\n",
    "data = {\n",
    "    'center': [0.004456, 0.003823, 0.006436, 0.004808, 0.005506],\n",
    "    'center-left': [0.004715, 0.004077, 0.005989, 0.004357, 0.005718],\n",
    "    'right': [0.004562, 0.003796, 0.006604, 0.004538, 0.006032]\n",
    "}\n",
    "\n",
    "frames = ['Care', 'Fairness', 'Loyalty', 'Authority', 'Sanctity']\n",
    "df = pd.DataFrame(data, index=frames)\n",
    "\n",
    "# Plot\n",
    "colors = [\"#FF0000\", \"#FFA500\", \"#0000FF\"]\n",
    "ax = df[['center-left','center','right']].plot(kind='bar', figsize=(10, 6), width=0.75,color=colors)\n",
    "plt.axhline(0, color='black', linewidth=0.8, linestyle='--')\n",
    "\n",
    "plt.ylabel('Intensity')\n",
    "plt.xticks(rotation=360)\n",
    "plt.legend()\n",
    "plt.tight_layout()\n",
    "plt.grid(axis='y', linestyle='--', alpha=0.7)\n",
    "plt.savefig(\"new_cluster/plots/FramingIntensity.png\", bbox_inches=\"tight\")\n",
    "plt.show()\n",
    "\n"
   ],
   "id": "e5e94a90f0f9c58f",
   "outputs": [
    {
     "data": {
      "text/plain": [
       "<Figure size 1000x600 with 1 Axes>"
      ],
      "image/png": "[encoded data removed]"
     },
     "metadata": {},
     "output_type": "display_data"
    }
   ],
   "execution_count": 16
  },
  {
   "cell_type": "code",
   "id": "ee2a675f7910a7a8",
   "metadata": {
    "ExecuteTime": {
     "end_time": "2025-05-02T11:25:32.789254Z",
     "start_time": "2025-05-02T11:25:32.780138Z"
    }
   },
   "source": [
    "def compute_frame_intensity(frame_bias_file, baseline_bias_file, output_dir):\n",
    "    columns = [\"Care\", \"Fairness\", \"Loyalty\", \"Authority\", \"Sanctity\"]\n",
    "    frame_bias_df = pd.read_csv(frame_bias_file, skiprows=2, header=None, names=columns)\n",
    "    baseline_bias_df = pd.read_csv(baseline_bias_file, skiprows=2, header=None, names=columns)\n",
    "\n",
    "    frame_intensity_df = frame_bias_df.copy()\n",
    "    for column in frame_bias_df.columns:\n",
    "        # Calculate the baseline bias as the mean of the baseline bias values\n",
    "        baseline_bias = baseline_bias_df[column].mean()\n",
    "\n",
    "        # Calculate the intensity as the squared deviation from the baseline bias\n",
    "        # This aligns with the concept of variance\n",
    "        frame_intensity_df[column] = (frame_bias_df[column] - baseline_bias) ** 2\n",
    "\n",
    "    base_name = os.path.basename(frame_bias_file).split(\".\")[0]\n",
    "    output_file_name = f\"{base_name}_frame_intensity.csv\"\n",
    "    output_file_path = os.path.join(output_dir, output_file_name)\n",
    "\n",
    "    # Define the two-line header as a string\n",
    "    header = \"Care,Fairness,Loyalty,Authority,Sanctity\\nHarm,Cheating,Betrayal,Subversion,Degradation\\n\"\n",
    "\n",
    "    # Save the frame intensity data to a new CSV file in the specified output directory with the headers\n",
    "    with open(output_file_path, \"w\") as file:\n",
    "        file.write(header)\n",
    "    frame_intensity_df.to_csv(output_file_path, index=False, header=False, mode=\"a\")\n",
    "    return frame_intensity_df"
   ],
   "outputs": [],
   "execution_count": 4
  },
  {
   "cell_type": "code",
   "id": "d510e2a92eecdab8",
   "metadata": {
    "ExecuteTime": {
     "end_time": "2025-05-02T11:25:54.152146Z",
     "start_time": "2025-05-02T11:25:41.786582Z"
    }
   },
   "source": [
    "frame_bias_file = \"new_cluster/custom_files/dimensions/center.csv\"\n",
    "baseline_bias_file = \"new_cluster/custom_files/dimensions/baseline_presse.csv\"\n",
    "output_dir = \"new_cluster/custom_files/dimensions\"\n",
    "compute_frame_intensity(frame_bias_file, baseline_bias_file, output_dir)"
   ],
   "outputs": [
    {
     "data": {
      "text/plain": [
       "          Care  Fairness   Loyalty  Authority  Sanctity\n",
       "0     0.000595  0.002340  0.000711   0.000380  0.003096\n",
       "1     0.001004  0.000101  0.000427   0.001673  0.030245\n",
       "2     0.000064  0.000296  0.000022   0.001354  0.000045\n",
       "3     0.000476  0.000273  0.001271   0.002294  0.010423\n",
       "4     0.000108  0.002823  0.026920   0.006509  0.011379\n",
       "...        ...       ...       ...        ...       ...\n",
       "9915  0.033624  0.017215  0.017692   0.000886  0.017151\n",
       "9916  0.008067  0.000464  0.000885   0.000273  0.000206\n",
       "9917  0.005050  0.000844  0.020594   0.000264  0.012780\n",
       "9918  0.003124  0.003870  0.007004   0.001055  0.000002\n",
       "9919  0.000909  0.001421  0.001023   0.000044  0.002525\n",
       "\n",
       "[9920 rows x 5 columns]"
      ],
      "text/html": [
       "<div>\n",
       "<style scoped>\n",
       "    .dataframe tbody tr th:only-of-type {\n",
       "        vertical-align: middle;\n",
       "    }\n",
       "\n",
       "    .dataframe tbody tr th {\n",
       "        vertical-align: top;\n",
       "    }\n",
       "\n",
       "    .dataframe thead th {\n",
       "        text-align: right;\n",
       "    }\n",
       "</style>\n",
       "<table border=\"1\" class=\"dataframe\">\n",
       "  <thead>\n",
       "    <tr style=\"text-align: right;\">\n",
       "      <th></th>\n",
       "      <th>Care</th>\n",
       "      <th>Fairness</th>\n",
       "      <th>Loyalty</th>\n",
       "      <th>Authority</th>\n",
       "      <th>Sanctity</th>\n",
       "    </tr>\n",
       "  </thead>\n",
       "  <tbody>\n",
       "    <tr>\n",
       "      <th>0</th>\n",
       "      <td>0.000595</td>\n",
       "      <td>0.002340</td>\n",
       "      <td>0.000711</td>\n",
       "      <td>0.000380</td>\n",
       "      <td>0.003096</td>\n",
       "    </tr>\n",
       "    <tr>\n",
       "      <th>1</th>\n",
       "      <td>0.001004</td>\n",
       "      <td>0.000101</td>\n",
       "      <td>0.000427</td>\n",
       "      <td>0.001673</td>\n",
       "      <td>0.030245</td>\n",
       "    </tr>\n",
       "    <tr>\n",
       "      <th>2</th>\n",
       "      <td>0.000064</td>\n",
       "      <td>0.000296</td>\n",
       "      <td>0.000022</td>\n",
       "      <td>0.001354</td>\n",
       "      <td>0.000045</td>\n",
       "    </tr>\n",
       "    <tr>\n",
       "      <th>3</th>\n",
       "      <td>0.000476</td>\n",
       "      <td>0.000273</td>\n",
       "      <td>0.001271</td>\n",
       "      <td>0.002294</td>\n",
       "      <td>0.010423</td>\n",
       "    </tr>\n",
       "    <tr>\n",
       "      <th>4</th>\n",
       "      <td>0.000108</td>\n",
       "      <td>0.002823</td>\n",
       "      <td>0.026920</td>\n",
       "      <td>0.006509</td>\n",
       "      <td>0.011379</td>\n",
       "    </tr>\n",
       "    <tr>\n",
       "      <th>...</th>\n",
       "      <td>...</td>\n",
       "      <td>...</td>\n",
       "      <td>...</td>\n",
       "      <td>...</td>\n",
       "      <td>...</td>\n",
       "    </tr>\n",
       "    <tr>\n",
       "      <th>9915</th>\n",
       "      <td>0.033624</td>\n",
       "      <td>0.017215</td>\n",
       "      <td>0.017692</td>\n",
       "      <td>0.000886</td>\n",
       "      <td>0.017151</td>\n",
       "    </tr>\n",
       "    <tr>\n",
       "      <th>9916</th>\n",
       "      <td>0.008067</td>\n",
       "      <td>0.000464</td>\n",
       "      <td>0.000885</td>\n",
       "      <td>0.000273</td>\n",
       "      <td>0.000206</td>\n",
       "    </tr>\n",
       "    <tr>\n",
       "      <th>9917</th>\n",
       "      <td>0.005050</td>\n",
       "      <td>0.000844</td>\n",
       "      <td>0.020594</td>\n",
       "      <td>0.000264</td>\n",
       "      <td>0.012780</td>\n",
       "    </tr>\n",
       "    <tr>\n",
       "      <th>9918</th>\n",
       "      <td>0.003124</td>\n",
       "      <td>0.003870</td>\n",
       "      <td>0.007004</td>\n",
       "      <td>0.001055</td>\n",
       "      <td>0.000002</td>\n",
       "    </tr>\n",
       "    <tr>\n",
       "      <th>9919</th>\n",
       "      <td>0.000909</td>\n",
       "      <td>0.001421</td>\n",
       "      <td>0.001023</td>\n",
       "      <td>0.000044</td>\n",
       "      <td>0.002525</td>\n",
       "    </tr>\n",
       "  </tbody>\n",
       "</table>\n",
       "<p>9920 rows × 5 columns</p>\n",
       "</div>"
      ]
     },
     "execution_count": 6,
     "metadata": {},
     "output_type": "execute_result"
    }
   ],
   "execution_count": 6
  },
  {
   "cell_type": "code",
   "execution_count": 5,
   "id": "92d9ec3030d9fa2e",
   "metadata": {
    "ExecuteTime": {
     "end_time": "2025-04-21T15:59:38.485564Z",
     "start_time": "2025-04-21T15:59:38.288742Z"
    }
   },
   "outputs": [
    {
     "data": {
      "text/html": [
       "<div>\n",
       "<style scoped>\n",
       "    .dataframe tbody tr th:only-of-type {\n",
       "        vertical-align: middle;\n",
       "    }\n",
       "\n",
       "    .dataframe tbody tr th {\n",
       "        vertical-align: top;\n",
       "    }\n",
       "\n",
       "    .dataframe thead th {\n",
       "        text-align: right;\n",
       "    }\n",
       "</style>\n",
       "<table border=\"1\" class=\"dataframe\">\n",
       "  <thead>\n",
       "    <tr style=\"text-align: right;\">\n",
       "      <th></th>\n",
       "      <th>Care</th>\n",
       "      <th>Fairness</th>\n",
       "      <th>Loyalty</th>\n",
       "      <th>Authority</th>\n",
       "      <th>Sanctity</th>\n",
       "    </tr>\n",
       "  </thead>\n",
       "  <tbody>\n",
       "    <tr>\n",
       "      <th>0</th>\n",
       "      <td>0.002136</td>\n",
       "      <td>0.001045</td>\n",
       "      <td>0.000906</td>\n",
       "      <td>0.007940</td>\n",
       "      <td>0.000078</td>\n",
       "    </tr>\n",
       "    <tr>\n",
       "      <th>1</th>\n",
       "      <td>0.001836</td>\n",
       "      <td>0.000236</td>\n",
       "      <td>0.000919</td>\n",
       "      <td>0.017828</td>\n",
       "      <td>0.001643</td>\n",
       "    </tr>\n",
       "    <tr>\n",
       "      <th>2</th>\n",
       "      <td>0.000303</td>\n",
       "      <td>0.000020</td>\n",
       "      <td>0.001417</td>\n",
       "      <td>0.000674</td>\n",
       "      <td>0.000112</td>\n",
       "    </tr>\n",
       "    <tr>\n",
       "      <th>3</th>\n",
       "      <td>0.000442</td>\n",
       "      <td>0.002114</td>\n",
       "      <td>0.006893</td>\n",
       "      <td>0.009779</td>\n",
       "      <td>0.006989</td>\n",
       "    </tr>\n",
       "    <tr>\n",
       "      <th>4</th>\n",
       "      <td>0.000342</td>\n",
       "      <td>0.001452</td>\n",
       "      <td>0.001972</td>\n",
       "      <td>0.000578</td>\n",
       "      <td>0.000045</td>\n",
       "    </tr>\n",
       "    <tr>\n",
       "      <th>...</th>\n",
       "      <td>...</td>\n",
       "      <td>...</td>\n",
       "      <td>...</td>\n",
       "      <td>...</td>\n",
       "      <td>...</td>\n",
       "    </tr>\n",
       "    <tr>\n",
       "      <th>32399</th>\n",
       "      <td>0.005295</td>\n",
       "      <td>0.000949</td>\n",
       "      <td>0.000944</td>\n",
       "      <td>0.009629</td>\n",
       "      <td>0.000773</td>\n",
       "    </tr>\n",
       "    <tr>\n",
       "      <th>32400</th>\n",
       "      <td>0.039295</td>\n",
       "      <td>0.000289</td>\n",
       "      <td>0.002430</td>\n",
       "      <td>0.000016</td>\n",
       "      <td>0.001187</td>\n",
       "    </tr>\n",
       "    <tr>\n",
       "      <th>32401</th>\n",
       "      <td>0.015428</td>\n",
       "      <td>0.007659</td>\n",
       "      <td>0.050884</td>\n",
       "      <td>0.014164</td>\n",
       "      <td>0.050511</td>\n",
       "    </tr>\n",
       "    <tr>\n",
       "      <th>32402</th>\n",
       "      <td>0.000967</td>\n",
       "      <td>0.013852</td>\n",
       "      <td>0.000027</td>\n",
       "      <td>0.003020</td>\n",
       "      <td>0.000059</td>\n",
       "    </tr>\n",
       "    <tr>\n",
       "      <th>32403</th>\n",
       "      <td>0.044969</td>\n",
       "      <td>0.006484</td>\n",
       "      <td>0.005628</td>\n",
       "      <td>0.001541</td>\n",
       "      <td>0.031107</td>\n",
       "    </tr>\n",
       "  </tbody>\n",
       "</table>\n",
       "<p>32404 rows × 5 columns</p>\n",
       "</div>"
      ],
      "text/plain": [
       "           Care  Fairness   Loyalty  Authority  Sanctity\n",
       "0      0.002136  0.001045  0.000906   0.007940  0.000078\n",
       "1      0.001836  0.000236  0.000919   0.017828  0.001643\n",
       "2      0.000303  0.000020  0.001417   0.000674  0.000112\n",
       "3      0.000442  0.002114  0.006893   0.009779  0.006989\n",
       "4      0.000342  0.001452  0.001972   0.000578  0.000045\n",
       "...         ...       ...       ...        ...       ...\n",
       "32399  0.005295  0.000949  0.000944   0.009629  0.000773\n",
       "32400  0.039295  0.000289  0.002430   0.000016  0.001187\n",
       "32401  0.015428  0.007659  0.050884   0.014164  0.050511\n",
       "32402  0.000967  0.013852  0.000027   0.003020  0.000059\n",
       "32403  0.044969  0.006484  0.005628   0.001541  0.031107\n",
       "\n",
       "[32404 rows x 5 columns]"
      ]
     },
     "execution_count": 5,
     "metadata": {},
     "output_type": "execute_result"
    }
   ],
   "source": [
    "frame_bias_file = \"new_cluster/custom_files/dimensions/center-left.csv\"\n",
    "baseline_bias_file = \"new_cluster/custom_files/dimensions/baseline_presse.csv\"\n",
    "output_dir = \"new_cluster/custom_files/dimensions\"\n",
    "compute_frame_intensity(frame_bias_file, baseline_bias_file, output_dir)"
   ]
  },
  {
   "cell_type": "code",
   "execution_count": 6,
   "id": "12d640fa323374ed",
   "metadata": {
    "ExecuteTime": {
     "end_time": "2025-04-21T15:59:58.995320Z",
     "start_time": "2025-04-21T15:59:58.893392Z"
    }
   },
   "outputs": [
    {
     "data": {
      "text/html": [
       "<div>\n",
       "<style scoped>\n",
       "    .dataframe tbody tr th:only-of-type {\n",
       "        vertical-align: middle;\n",
       "    }\n",
       "\n",
       "    .dataframe tbody tr th {\n",
       "        vertical-align: top;\n",
       "    }\n",
       "\n",
       "    .dataframe thead th {\n",
       "        text-align: right;\n",
       "    }\n",
       "</style>\n",
       "<table border=\"1\" class=\"dataframe\">\n",
       "  <thead>\n",
       "    <tr style=\"text-align: right;\">\n",
       "      <th></th>\n",
       "      <th>Care</th>\n",
       "      <th>Fairness</th>\n",
       "      <th>Loyalty</th>\n",
       "      <th>Authority</th>\n",
       "      <th>Sanctity</th>\n",
       "    </tr>\n",
       "  </thead>\n",
       "  <tbody>\n",
       "    <tr>\n",
       "      <th>0</th>\n",
       "      <td>0.000341</td>\n",
       "      <td>0.006629</td>\n",
       "      <td>0.000821</td>\n",
       "      <td>0.000008</td>\n",
       "      <td>0.000023</td>\n",
       "    </tr>\n",
       "    <tr>\n",
       "      <th>1</th>\n",
       "      <td>0.001589</td>\n",
       "      <td>0.008397</td>\n",
       "      <td>0.001646</td>\n",
       "      <td>0.006052</td>\n",
       "      <td>0.000050</td>\n",
       "    </tr>\n",
       "    <tr>\n",
       "      <th>2</th>\n",
       "      <td>0.000232</td>\n",
       "      <td>0.013902</td>\n",
       "      <td>0.004911</td>\n",
       "      <td>0.008537</td>\n",
       "      <td>0.003588</td>\n",
       "    </tr>\n",
       "    <tr>\n",
       "      <th>3</th>\n",
       "      <td>0.000081</td>\n",
       "      <td>0.000570</td>\n",
       "      <td>0.001375</td>\n",
       "      <td>0.001134</td>\n",
       "      <td>0.006925</td>\n",
       "    </tr>\n",
       "    <tr>\n",
       "      <th>4</th>\n",
       "      <td>0.005392</td>\n",
       "      <td>0.010988</td>\n",
       "      <td>0.062196</td>\n",
       "      <td>0.034466</td>\n",
       "      <td>0.046848</td>\n",
       "    </tr>\n",
       "    <tr>\n",
       "      <th>...</th>\n",
       "      <td>...</td>\n",
       "      <td>...</td>\n",
       "      <td>...</td>\n",
       "      <td>...</td>\n",
       "      <td>...</td>\n",
       "    </tr>\n",
       "    <tr>\n",
       "      <th>6718</th>\n",
       "      <td>0.001650</td>\n",
       "      <td>0.003489</td>\n",
       "      <td>0.001075</td>\n",
       "      <td>0.000098</td>\n",
       "      <td>0.000757</td>\n",
       "    </tr>\n",
       "    <tr>\n",
       "      <th>6719</th>\n",
       "      <td>0.003806</td>\n",
       "      <td>0.003363</td>\n",
       "      <td>0.012509</td>\n",
       "      <td>0.007935</td>\n",
       "      <td>0.004258</td>\n",
       "    </tr>\n",
       "    <tr>\n",
       "      <th>6720</th>\n",
       "      <td>0.008511</td>\n",
       "      <td>0.022825</td>\n",
       "      <td>0.018466</td>\n",
       "      <td>0.024196</td>\n",
       "      <td>0.022405</td>\n",
       "    </tr>\n",
       "    <tr>\n",
       "      <th>6721</th>\n",
       "      <td>0.004594</td>\n",
       "      <td>0.006031</td>\n",
       "      <td>0.000422</td>\n",
       "      <td>0.001871</td>\n",
       "      <td>0.000293</td>\n",
       "    </tr>\n",
       "    <tr>\n",
       "      <th>6722</th>\n",
       "      <td>0.001701</td>\n",
       "      <td>0.005915</td>\n",
       "      <td>0.000656</td>\n",
       "      <td>0.002103</td>\n",
       "      <td>0.000932</td>\n",
       "    </tr>\n",
       "  </tbody>\n",
       "</table>\n",
       "<p>6723 rows × 5 columns</p>\n",
       "</div>"
      ],
      "text/plain": [
       "          Care  Fairness   Loyalty  Authority  Sanctity\n",
       "0     0.000341  0.006629  0.000821   0.000008  0.000023\n",
       "1     0.001589  0.008397  0.001646   0.006052  0.000050\n",
       "2     0.000232  0.013902  0.004911   0.008537  0.003588\n",
       "3     0.000081  0.000570  0.001375   0.001134  0.006925\n",
       "4     0.005392  0.010988  0.062196   0.034466  0.046848\n",
       "...        ...       ...       ...        ...       ...\n",
       "6718  0.001650  0.003489  0.001075   0.000098  0.000757\n",
       "6719  0.003806  0.003363  0.012509   0.007935  0.004258\n",
       "6720  0.008511  0.022825  0.018466   0.024196  0.022405\n",
       "6721  0.004594  0.006031  0.000422   0.001871  0.000293\n",
       "6722  0.001701  0.005915  0.000656   0.002103  0.000932\n",
       "\n",
       "[6723 rows x 5 columns]"
      ]
     },
     "execution_count": 6,
     "metadata": {},
     "output_type": "execute_result"
    }
   ],
   "source": [
    "frame_bias_file = \"new_cluster/custom_files/dimensions/right.csv\"\n",
    "baseline_bias_file = \"new_cluster/custom_files/dimensions/baseline_presse.csv\"\n",
    "output_dir = \"new_cluster/custom_files/dimensions\"\n",
    "compute_frame_intensity(frame_bias_file, baseline_bias_file, output_dir)"
   ]
  },
  {
   "cell_type": "code",
   "execution_count": 20,
   "id": "69cc60ff",
   "metadata": {},
   "outputs": [
    {
     "name": "stdout",
     "output_type": "stream",
     "text": [
      "Right: 6723, 13.71%\n",
      "Center-Left: 32404, 66.07%\n",
      "Center: 9920, 20.23%\n",
      "Total: 49047\n"
     ]
    }
   ],
   "source": [
    "# load data for logistic regression\n",
    "input_dir = \"new_cluster/custom_files/dimensions\"\n",
    "bias_columns = [\"Care_bias\", \"Fairness_bias\", \"Loyalty_bias\", \"Authority_bias\", \"Sanctity_bias\"]\n",
    "intensity_columns = [\n",
    "    \"Care_intensity\",\n",
    "    \"Fairness_intensity\",\n",
    "    \"Loyalty_intensity\",\n",
    "    \"Authority_intensity\",\n",
    "    \"Sanctity_intensity\",\n",
    "]\n",
    "\n",
    "right_intensity_df = pd.read_csv(\n",
    "    input_dir + \"/right_frame_intensity.csv\", skiprows=2, header=None, names=intensity_columns\n",
    ")\n",
    "\n",
    "center_left_intensity_df = pd.read_csv(\n",
    "    input_dir + \"/center-left_frame_intensity.csv\",\n",
    "    skiprows=2,\n",
    "    header=None,\n",
    "    names=intensity_columns,\n",
    ")\n",
    "center_intensity_df = pd.read_csv(\n",
    "    input_dir + \"/center_frame_intensity.csv\", skiprows=2, header=None, names=intensity_columns\n",
    ")\n",
    "right_bias_df = pd.read_csv(input_dir + \"/right.csv\", skiprows=2, header=None, names=bias_columns)\n",
    "center_left_bias_df = pd.read_csv(input_dir + \"/center-left.csv\", skiprows=2, header=None, names=bias_columns)\n",
    "center_bias_df = pd.read_csv(input_dir + \"/center.csv\", skiprows=2, header=None, names=bias_columns)\n",
    "\n",
    "# add political labels to the dataframes\n",
    "right_bias_df[\"label\"] = \"R\"\n",
    "center_left_bias_df[\"label\"] = \"CL\"\n",
    "center_bias_df[\"label\"] = \"C\"\n",
    "\n",
    "# combine bias and intensity dataframes\n",
    "right_df = pd.concat([right_intensity_df, right_bias_df], axis=1)\n",
    "center_left_df = pd.concat([center_left_intensity_df, center_left_bias_df], axis=1)\n",
    "center_df = pd.concat([center_intensity_df, center_bias_df], axis=1)\n",
    "data_df = pd.concat([right_df, center_left_df, center_df], ignore_index=True)\n",
    "\n",
    "# print class distribution\n",
    "print(f\"Right: {len(right_df)}, {len(right_df) / len(data_df) * 100:.2f}%\")\n",
    "print(f\"Center-Left: {len(center_left_df)}, {len(center_left_df) / len(data_df) * 100:.2f}%\")\n",
    "print(f\"Center: {len(center_df)}, {len(center_df) / len(data_df) * 100:.2f}%\")\n",
    "print(f\"Total: {len(data_df)}\")"
   ]
  },
  {
   "cell_type": "code",
   "execution_count": 21,
   "id": "ddbfc85c",
   "metadata": {},
   "outputs": [],
   "source": [
    "# split data into features and labels\n",
    "X = data_df.drop(columns=[\"label\"])\n",
    "y = data_df[\"label\"]\n",
    "\n",
    "# split into test and train sets\n",
    "# very small test set since we are primarily interested in the coefficients\n",
    "X_train, X_test, y_train, y_test = train_test_split(X, y, test_size=0.05, shuffle=True, random_state=42, stratify=y)\n",
    "\n",
    "# scale the features\n",
    "scaler = StandardScaler()\n",
    "X_train_scaled = scaler.fit_transform(X_train)\n",
    "X_test_scaled = scaler.transform(X_test)"
   ]
  },
  {
   "cell_type": "code",
   "execution_count": 24,
   "id": "afb69e35",
   "metadata": {},
   "outputs": [
    {
     "name": "stdout",
     "output_type": "stream",
     "text": [
      "\n",
      "Classification Report:\n",
      "              precision    recall  f1-score   support\n",
      "\n",
      "           C       0.23      0.40      0.29       496\n",
      "          CL       0.70      0.37      0.49      1621\n",
      "           R       0.18      0.39      0.24       336\n",
      "\n",
      "    accuracy                           0.38      2453\n",
      "   macro avg       0.37      0.39      0.34      2453\n",
      "weighted avg       0.53      0.38      0.41      2453\n",
      "\n"
     ]
    }
   ],
   "source": [
    "# train logistic regression model to predict political labels based on bias and intensity\n",
    "classifier = LogisticRegression(max_iter=10000, class_weight=\"balanced\", random_state=42, C=0.1)\n",
    "classifier.fit(X_train_scaled, y_train)\n",
    "y_pred = classifier.predict(X_test_scaled)\n",
    "print(\"\\nClassification Report:\")\n",
    "print(classification_report(y_test, y_pred, zero_division=0))"
   ]
  },
  {
   "cell_type": "code",
   "execution_count": 25,
   "id": "49611639",
   "metadata": {},
   "outputs": [
    {
     "name": "stdout",
     "output_type": "stream",
     "text": [
      "\n",
      "Coefficients:\n",
      "    Care_intensity  Fairness_intensity  Loyalty_intensity  \\\n",
      "C         0.003708           -0.021646           0.000127   \n",
      "CL        0.031173            0.049580          -0.045787   \n",
      "R        -0.034880           -0.027934           0.045659   \n",
      "\n",
      "    Authority_intensity  Sanctity_intensity  Care_bias  Fairness_bias  \\\n",
      "C              0.051656           -0.038356   0.039242      -0.060968   \n",
      "CL            -0.032953            0.005320   0.003353       0.092704   \n",
      "R             -0.018702            0.033036  -0.042595      -0.031736   \n",
      "\n",
      "    Loyalty_bias  Authority_bias  Sanctity_bias  \n",
      "C       0.041473       -0.008506       0.074329  \n",
      "CL     -0.136528        0.043527      -0.002440  \n",
      "R       0.095055       -0.035022      -0.071888  \n"
     ]
    }
   ],
   "source": [
    "# extract and save coefficients\n",
    "coef_df = pd.DataFrame(classifier.coef_, columns=X.columns, index=classifier.classes_)\n",
    "print(\"\\nCoefficients:\")\n",
    "print(coef_df)\n",
    "\n",
    "coef_df.to_csv(\"new_cluster/custom_files/logistic_regression_coefficients.csv\")"
   ]
  },
  {
   "cell_type": "code",
   "execution_count": 23,
   "id": "1a14e08417413dbc",
   "metadata": {
    "ExecuteTime": {
     "end_time": "2025-03-30T13:48:01.974167Z",
     "start_time": "2025-03-30T13:48:01.968659Z"
    }
   },
   "outputs": [],
   "source": [
    "def plot_label_means(file_paths, custom_names, output_dir, name=\"Temp\", colors=None):\n",
    "    if not file_paths or len(file_paths) != len(custom_names):\n",
    "        print(\"Error: Ensure file_paths and custom_names are non-empty and have the same length.\")\n",
    "        return\n",
    "\n",
    "    df_list = []\n",
    "    for file_path, label in zip(file_paths, custom_names):\n",
    "        df = pd.read_csv(file_path)\n",
    "        df_mean = df.mean().to_frame(name=label)\n",
    "        df_mean.index.name = \"Label\"\n",
    "        df_list.append(df_mean)\n",
    "    merged_df = pd.concat(df_list, axis=1)\n",
    "    merged_df = merged_df.iloc[::-1]\n",
    "    plt.figure(figsize=(8, 6))\n",
    "    merged_df.plot(kind=\"barh\", figsize=(8, 6), width=0.7, color=colors)\n",
    "\n",
    "    plt.xlabel(\"\")\n",
    "    plt.ylabel(\"\")\n",
    "    plt.title(name)\n",
    "    plt.legend(custom_names, loc=\"upper right\", bbox_to_anchor=(1, 1), prop={\"size\": 9.5})\n",
    "    plt.tight_layout()\n",
    "    plt.xlim(0, 1)\n",
    "    for x in [0.2, 0.4, 0.6, 0.8]:\n",
    "        plt.axvline(x=x, color=\"grey\", linestyle=\"--\")\n",
    "    output_file = os.path.join(output_dir, f\"Label_{name}.png\")\n",
    "    plt.savefig(output_file, bbox_inches=\"tight\")\n",
    "    plt.close()\n",
    "    print(f\"Plot saved: {output_file}\")"
   ]
  },
  {
   "cell_type": "code",
   "execution_count": null,
   "id": "da7f3c36123ee55e",
   "metadata": {
    "ExecuteTime": {
     "end_time": "2025-03-29T22:41:02.345386Z",
     "start_time": "2025-03-29T22:41:01.970669Z"
    }
   },
   "outputs": [
    {
     "name": "stdout",
     "output_type": "stream",
     "text": [
      "Plot saved: new_cluster/plots/NGOs vs IGOs vs Newspapers.png\n"
     ]
    },
    {
     "data": {
      "text/plain": [
       "<Figure size 800x600 with 0 Axes>"
      ]
     },
     "metadata": {},
     "output_type": "display_data"
    }
   ],
   "source": [
    "plot_name = \"NGOs vs IGOs vs Newspapers\"\n",
    "\n",
    "file_paths = [\n",
    "    \"new_cluster/custom_files/original_labels/NGO.csv\",\n",
    "    \"new_cluster/custom_files/original_labels/IGO.csv\",\n",
    "    \"new_cluster/custom_files/original_labels/Presse.csv\",\n",
    "]\n",
    "\n",
    "custom_names = [\"NGOs\", \"IGOs\", \"Newspapers\"]\n",
    "output_dir = \"new_cluster/plots/\"\n",
    "\n",
    "# colors (optional)\n",
    "custom_colors = [\"#1F77B4\", \"#FF7F0E\", \"#2CA02C\"]\n",
    "\n",
    "# Generate plot\n",
    "plot_label_means(file_paths, custom_names, output_dir, plot_name, colors=custom_colors)"
   ]
  },
  {
   "cell_type": "code",
   "execution_count": null,
   "id": "e4f2d0bdf45b22a5",
   "metadata": {
    "ExecuteTime": {
     "end_time": "2025-03-29T23:44:26.722343Z",
     "start_time": "2025-03-29T23:44:26.496842Z"
    }
   },
   "outputs": [
    {
     "name": "stdout",
     "output_type": "stream",
     "text": [
      "Plot saved: new_cluster/plots/Left vs Right - Newspapers.png\n"
     ]
    },
    {
     "data": {
      "text/plain": [
       "<Figure size 800x600 with 0 Axes>"
      ]
     },
     "metadata": {},
     "output_type": "display_data"
    }
   ],
   "source": [
    "plot_name = \"Left vs Right - Newspapers\"\n",
    "\n",
    "file_paths = [\n",
    "    \"new_cluster/custom_files/labels/center.csv\",\n",
    "    \"new_cluster/custom_files/labels/center-left.csv\",\n",
    "    \"new_cluster/custom_files/labels/right.csv\",\n",
    "]\n",
    "\n",
    "custom_names = [\"center\", \"center-left\", \"right\"]\n",
    "output_dir = \"new_cluster/plots/\"\n",
    "\n",
    "# colors (optional)\n",
    "custom_colors = [\"#FFA500\", \"#FF0000\", \"#0000FF\"]\n",
    "\n",
    "# Generate plot\n",
    "plot_label_means(file_paths, custom_names, output_dir, plot_name, colors=custom_colors)"
   ]
  },
  {
   "cell_type": "code",
   "execution_count": null,
   "id": "ef4e7a0ec0760659",
   "metadata": {
    "ExecuteTime": {
     "end_time": "2025-03-30T13:53:20.176017Z",
     "start_time": "2025-03-30T13:53:19.857662Z"
    }
   },
   "outputs": [
    {
     "name": "stdout",
     "output_type": "stream",
     "text": [
      "Plot saved: new_cluster/plots/Newspapers over Time.png\n"
     ]
    },
    {
     "data": {
      "text/plain": [
       "<Figure size 800x600 with 0 Axes>"
      ]
     },
     "metadata": {},
     "output_type": "display_data"
    }
   ],
   "source": [
    "plot_name = \"Newspapers over Time\"\n",
    "\n",
    "file_paths = [\n",
    "    \"new_cluster/custom_files/labels/2008.csv\",\n",
    "    \"new_cluster/custom_files/labels/2009.csv\",\n",
    "    \"new_cluster/custom_files/labels/2010.csv\",\n",
    "    \"new_cluster/custom_files/labels/2014.csv\",\n",
    "    \"new_cluster/custom_files/labels/2015.csv\",\n",
    "    \"new_cluster/custom_files/labels/2016.csv\",\n",
    "    \"new_cluster/custom_files/labels/2017.csv\",\n",
    "    \"new_cluster/custom_files/labels/2020.csv\",\n",
    "    \"new_cluster/custom_files/labels/2021.csv\",\n",
    "]\n",
    "\n",
    "custom_names = [\"2008\", \"2009\", \"2010\", \"2014\", \"2015\", \"2016\", \"2017\", \"2020\", \"2021\"]\n",
    "output_dir = \"new_cluster/plots/\"\n",
    "\n",
    "# colors (optional)\n",
    "custom_colors = [\"#1F77B4\", \"#FF7F0E\", \"#2CA02C\", \"#D62728\", \"#9467BD\", \"#4E372D\", \"#EBC750\", \"#7F7F7F\", \"#A6204B\"]\n",
    "\n",
    "# Generate plot\n",
    "plot_label_means(file_paths, custom_names, output_dir, plot_name, colors=custom_colors)"
   ]
  },
  {
   "cell_type": "code",
   "execution_count": null,
   "id": "e2c685def42d1d60",
   "metadata": {
    "ExecuteTime": {
     "end_time": "2025-03-31T11:09:45.810676Z",
     "start_time": "2025-03-31T11:09:45.803679Z"
    }
   },
   "outputs": [],
   "source": [
    "def combine_csv_by_organization(root_path, output_dir, labels=True):\n",
    "    os.makedirs(output_dir, exist_ok=True)\n",
    "    for category in os.listdir(root_path):\n",
    "        category_path = os.path.join(root_path, category)\n",
    "        if not os.path.isdir(category_path):\n",
    "            continue\n",
    "        org_files = defaultdict(list)\n",
    "        for subdir, _, files in os.walk(category_path):\n",
    "            for file in files:\n",
    "                if file.endswith(\".csv\"):\n",
    "                    prefix = file.split(\"-\")[0]\n",
    "                    org_files[prefix].append(os.path.join(subdir, file))\n",
    "        category_output_path = os.path.join(output_dir, category)\n",
    "        os.makedirs(category_output_path, exist_ok=True)\n",
    "\n",
    "        for org, file_list in org_files.items():\n",
    "            if labels:\n",
    "                combined_data = pd.concat([pd.read_csv(f) for f in file_list], ignore_index=True)\n",
    "            else:\n",
    "                combined_data = pd.concat([pd.read_csv(f, header=[0, 1]) for f in file_list], ignore_index=True)\n",
    "            output_file = os.path.join(category_output_path, f\"{org}.csv\")\n",
    "            combined_data.to_csv(output_file, index=False)\n",
    "            print(f\"Saved: {output_file}\")"
   ]
  },
  {
   "cell_type": "code",
   "execution_count": null,
   "id": "9abc1e9a2f853238",
   "metadata": {},
   "outputs": [],
   "source": [
    "combine_csv_by_organization(\"new_cluster/original_labels/by_org\", \"new_cluster/custom_files/labels\", labels=True)"
   ]
  },
  {
   "cell_type": "code",
   "execution_count": null,
   "id": "d312d89ec131ad54",
   "metadata": {
    "ExecuteTime": {
     "end_time": "2025-03-31T11:10:21.587972Z",
     "start_time": "2025-03-31T11:09:59.536490Z"
    }
   },
   "outputs": [
    {
     "name": "stdout",
     "output_type": "stream",
     "text": [
      "Saved: new_cluster/custom_files/dimensions\\IGO\\IPCC.csv\n",
      "Saved: new_cluster/custom_files/dimensions\\IGO\\REDD.csv\n",
      "Saved: new_cluster/custom_files/dimensions\\IGO\\UNDP.csv\n",
      "Saved: new_cluster/custom_files/dimensions\\IGO\\UNEP.csv\n",
      "Saved: new_cluster/custom_files/dimensions\\IGO\\WB.csv\n",
      "Saved: new_cluster/custom_files/dimensions\\IGO\\WMO.csv\n",
      "Saved: new_cluster/custom_files/dimensions\\IGO\\WHO.csv\n",
      "Saved: new_cluster/custom_files/dimensions\\IGO\\UNCDF.csv\n",
      "Saved: new_cluster/custom_files/dimensions\\IGO\\UNFCCC.csv\n",
      "Saved: new_cluster/custom_files/dimensions\\NGO\\CG.csv\n",
      "Saved: new_cluster/custom_files/dimensions\\NGO\\EDF.csv\n",
      "Saved: new_cluster/custom_files/dimensions\\NGO\\FoEI.csv\n",
      "Saved: new_cluster/custom_files/dimensions\\NGO\\GP.csv\n",
      "Saved: new_cluster/custom_files/dimensions\\NGO\\NRDC.csv\n",
      "Saved: new_cluster/custom_files/dimensions\\NGO\\OX.csv\n",
      "Saved: new_cluster/custom_files/dimensions\\NGO\\WWF.csv\n",
      "Saved: new_cluster/custom_files/dimensions\\NGO\\Action.csv\n",
      "Saved: new_cluster/custom_files/dimensions\\NGO\\CAN.csv\n",
      "Saved: new_cluster/custom_files/dimensions\\NGO\\CARE.csv\n",
      "Saved: new_cluster/custom_files/dimensions\\NGO\\CI.csv\n",
      "Saved: new_cluster/custom_files/dimensions\\NGO\\CIDSE.csv\n",
      "Saved: new_cluster/custom_files/dimensions\\NGO\\EJF.csv\n",
      "Saved: new_cluster/custom_files/dimensions\\NGO\\GGJA.csv\n",
      "Saved: new_cluster/custom_files/dimensions\\NGO\\IBON.csv\n",
      "Saved: new_cluster/custom_files/dimensions\\NGO\\IICAT.csv\n",
      "Saved: new_cluster/custom_files/dimensions\\NGO\\OCI.csv\n",
      "Saved: new_cluster/custom_files/dimensions\\NGO\\OXFAM.csv\n",
      "Saved: new_cluster/custom_files/dimensions\\NGO\\RA.csv\n",
      "Saved: new_cluster/custom_files/dimensions\\NGO\\WRI.csv\n",
      "Saved: new_cluster/custom_files/dimensions\\Presse\\FT.csv\n",
      "Saved: new_cluster/custom_files/dimensions\\Presse\\NYT.csv\n",
      "Saved: new_cluster/custom_files/dimensions\\Presse\\Telegraph.csv\n",
      "Saved: new_cluster/custom_files/dimensions\\Presse\\Guardian.csv\n",
      "Saved: new_cluster/custom_files/dimensions\\Presse\\USAToday.csv\n"
     ]
    }
   ],
   "source": [
    "combine_csv_by_organization(\n",
    "    \"new_cluster/original_dimensions/by_org\", \"new_cluster/custom_files/dimensions\", labels=False\n",
    ")"
   ]
  },
  {
   "cell_type": "code",
   "id": "3aabe0dbac150ef",
   "metadata": {
    "ExecuteTime": {
     "end_time": "2025-04-30T11:10:06.622375Z",
     "start_time": "2025-04-30T11:10:06.613975Z"
    }
   },
   "source": [
    "def compare_plots(dfs, titles, scale, colors, save=False, compare=None):\n",
    "    name_left = dfs[0].columns.map(lambda x: x[1])\n",
    "    name_right = dfs[0].columns.map(lambda x: x[0])\n",
    "    means = [df.mean() for df in dfs]\n",
    "    intens = [(df.var().fillna(0) + 0.001) * 50_000 for df in dfs]\n",
    "    legend_entries = [mpatches.Patch(color=colors[0], label=titles[0])]\n",
    "    fig = plt.figure()\n",
    "    ax = fig.add_subplot(111)\n",
    "    plt.scatter(x=means[0], y=name_left, s=intens[0], c=colors[0])\n",
    "    plt.axvline(0)\n",
    "    plt.gca().invert_yaxis()\n",
    "    ax.twinx().set_yticks(ax.get_yticks(), labels=name_right[::-1])\n",
    "    fig.axes[0].set_axisbelow(True)\n",
    "    fig.axes[0].yaxis.grid(color=\"gray\", linestyle=\"dashed\")\n",
    "    plt.xlim(-scale, scale)\n",
    "    for i in range(1, len(dfs)):\n",
    "        legend_entries.append(mpatches.Patch(color=colors[i], label=titles[i]))\n",
    "        plt.scatter(x=means[i], y=name_left, s=intens[i], c=colors[i])\n",
    "\n",
    "    plt.gcf().set_size_inches(10, 7)\n",
    "    plt.tight_layout()\n",
    "    plt.legend(handles=legend_entries)\n",
    "    return fig\n",
    "\n",
    "def compareCustom(file_paths, scale, output_dir, custom_names=None, title=None, colors=list(mcolors.TABLEAU_COLORS)):\n",
    "    dfs = []\n",
    "    names = []\n",
    "    for path in file_paths:\n",
    "        dfs.append(pd.read_csv(path, header=[0, 1]))\n",
    "        names.append(os.path.splitext(os.path.basename(path))[0])\n",
    "    if custom_names is not None:\n",
    "        names = custom_names\n",
    "    if title is None:\n",
    "        title = f\"Comparing {names[0]}\"\n",
    "        for name in names[1:]:\n",
    "            title += f\" and {name}\"\n",
    "    g = compare_plots(dfs, names, scale, colors)\n",
    "    plt.title(title)\n",
    "    print(f\"\\t\\t- \" + str(title))\n",
    "    output_file = os.path.join(output_dir, f\"Dim_{title}.png\")\n",
    "    plt.savefig(output_file, bbox_inches=\"tight\")\n",
    "\n",
    "\n"
   ],
   "outputs": [],
   "execution_count": 16
  },
  {
   "cell_type": "code",
   "id": "8bd5570ac91064e2",
   "metadata": {
    "ExecuteTime": {
     "end_time": "2025-04-30T11:10:08.203909Z",
     "start_time": "2025-04-30T11:10:07.908751Z"
    }
   },
   "source": [
    "plot_name = \"Left vs Right - Newspapers\"\n",
    "\n",
    "file_paths = [\n",
    "    \"new_cluster/custom_files/dimensions/center.csv\",\n",
    "    \"new_cluster/custom_files/dimensions/center-left.csv\",\n",
    "    \"new_cluster/custom_files/dimensions/right.csv\",\n",
    "]\n",
    "\n",
    "custom_name = [\"center\", \"center-left\", \"right\"]\n",
    "output_dir = \"new_cluster/plots/\"\n",
    "\n",
    "# colors (optional)\n",
    "custom_colors = [\"#FFA500\", \"#FF0000\", \"#0000FF\"]\n",
    "# scale\n",
    "scale = 0.1\n",
    "\n",
    "# Generate plot\n",
    "compareCustom(file_paths, scale, output_dir, custom_names=custom_name, title=plot_name, colors=custom_colors)\n"
   ],
   "outputs": [
    {
     "name": "stdout",
     "output_type": "stream",
     "text": [
      "\t\t- Left vs Right - Newspapers\n"
     ]
    },
    {
     "data": {
      "text/plain": [
       "<Figure size 1000x700 with 2 Axes>"
      ],
      "image/png": "[encoded data removed]"
     },
     "metadata": {},
     "output_type": "display_data"
    }
   ],
   "execution_count": 17
  },
  {
   "metadata": {
    "ExecuteTime": {
     "end_time": "2025-04-30T11:18:13.047269Z",
     "start_time": "2025-04-30T11:18:12.842062Z"
    }
   },
   "cell_type": "code",
   "source": [
    "plot_name = \"Coefficients Left vs Right - Newspapers\"\n",
    "\n",
    "file_paths = [\n",
    "    \"new_cluster/custom_files/logistic_regression_bias_center.csv\",\n",
    "    \"new_cluster/custom_files/logistic_regression_bias_center_left.csv\",\n",
    "    \"new_cluster/custom_files/logistic_regression_bias_right.csv\",\n",
    "]\n",
    "\n",
    "custom_name = [\"center\", \"center-left\", \"right\"]\n",
    "output_dir = \"new_cluster/plots/\"\n",
    "\n",
    "# colors (optional)\n",
    "custom_colors = [\"#FFA500\", \"#FF0000\", \"#0000FF\"]\n",
    "# scale\n",
    "scale = 0.15\n",
    "\n",
    "# Generate plot\n",
    "compareCustom(file_paths, scale, output_dir, custom_names=custom_name, title=plot_name, colors=custom_colors)"
   ],
   "id": "77d202aafcd51b8",
   "outputs": [
    {
     "name": "stdout",
     "output_type": "stream",
     "text": [
      "\t\t- Coefficients Left vs Right - Newspapers\n"
     ]
    },
    {
     "data": {
      "text/plain": [
       "<Figure size 1000x700 with 2 Axes>"
      ],
      "image/png": "[encoded data removed]"
     },
     "metadata": {},
     "output_type": "display_data"
    }
   ],
   "execution_count": 20
  },
  {
   "cell_type": "code",
   "id": "6e02c2fcb35ea95",
   "metadata": {
    "ExecuteTime": {
     "end_time": "2025-04-30T11:10:12.032981Z",
     "start_time": "2025-04-30T11:10:11.551939Z"
    }
   },
   "source": [
    "plot_name = \"Newspapers over Time\"\n",
    "\n",
    "file_paths = [\n",
    "    \"new_cluster/custom_files/dimensions/2008.csv\",\n",
    "    \"new_cluster/custom_files/dimensions/2009.csv\",\n",
    "    \"new_cluster/custom_files/dimensions/2010.csv\",\n",
    "    \"new_cluster/custom_files/dimensions/2014.csv\",\n",
    "    \"new_cluster/custom_files/dimensions/2015.csv\",\n",
    "    \"new_cluster/custom_files/dimensions/2016.csv\",\n",
    "    \"new_cluster/custom_files/dimensions/2017.csv\",\n",
    "    \"new_cluster/custom_files/dimensions/2020.csv\",\n",
    "    \"new_cluster/custom_files/dimensions/2021.csv\",\n",
    "]\n",
    "\n",
    "custom_name = [\"2008\", \"2009\", \"2010\", \"2014\", \"2015\", \"2016\", \"2017\", \"2020\", \"2021\"]\n",
    "output_dir = \"new_cluster/plots/\"\n",
    "\n",
    "# colors (optional)\n",
    "custom_colors = [\"#1F77B4\", \"#FF7F0E\", \"#2CA02C\", \"#D62728\", \"#9467BD\", \"#4E372D\", \"#EBC750\", \"#7F7F7F\", \"#A6204B\"]\n",
    "\n",
    "# scale\n",
    "scale = 0.1\n",
    "# Generate plot\n",
    "compareCustom(file_paths, scale, output_dir, custom_names=custom_name, title=plot_name, colors=custom_colors)"
   ],
   "outputs": [
    {
     "name": "stdout",
     "output_type": "stream",
     "text": [
      "\t\t- Newspapers over Time\n"
     ]
    },
    {
     "data": {
      "text/plain": [
       "<Figure size 1000x700 with 2 Axes>"
      ],
      "image/png": "[encoded data removed]"
     },
     "metadata": {},
     "output_type": "display_data"
    }
   ],
   "execution_count": 18
  }
 ],
 "metadata": {
  "kernelspec": {
   "display_name": "ml",
   "language": "python",
   "name": "python3"
  },
  "language_info": {
   "codemirror_mode": {
    "name": "ipython",
    "version": 3
   },
   "file_extension": ".py",
   "mimetype": "text/x-python",
   "name": "python",
   "nbconvert_exporter": "python",
   "pygments_lexer": "ipython3",
   "version": "3.12.3"
  }
 },
 "nbformat": 4,
 "nbformat_minor": 5
}
