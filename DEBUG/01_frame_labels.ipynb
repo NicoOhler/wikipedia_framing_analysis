{
 "cells": [
  {
   "cell_type": "code",
   "execution_count": 1,
   "id": "e78f1146-d664-4ef3-9893-05d29e1898cc",
   "metadata": {},
   "outputs": [
    {
     "name": "stderr",
     "output_type": "stream",
     "text": [
      "d:\\miniconda\\envs\\ml\\Lib\\site-packages\\tqdm\\auto.py:21: TqdmWarning: IProgress not found. Please update jupyter and ipywidgets. See https://ipywidgets.readthedocs.io/en/stable/user_install.html\n",
      "  from .autonotebook import tqdm as notebook_tqdm\n"
     ]
    }
   ],
   "source": [
    "# | default_exp framelabels\n",
    "# | export\n",
    "import torch\n",
    "from transformers import pipeline\n",
    "from functools import partial\n",
    "import numpy as np\n",
    "import pandas as pd\n",
    "import tqdm\n",
    "import matplotlib.pyplot as plt\n",
    "import seaborn as sns\n",
    "\n",
    "\n",
    "class FramingLabels:\n",
    "    def __init__(self, base_model, candidate_labels, batch_size=16):\n",
    "        device = \"cuda:0\" if torch.cuda.is_available() else \"cpu\"\n",
    "        self.base_pipeline = pipeline(\"zero-shot-classification\", model=base_model, device=device)\n",
    "        self.candidate_labels = candidate_labels\n",
    "        self.classifier = partial(\n",
    "            self.base_pipeline, candidate_labels=candidate_labels, multi_label=True, batch_size=batch_size\n",
    "        )\n",
    "\n",
    "    def order_scores(self, dic):\n",
    "        indices_order = [dic[\"labels\"].index(l) for l in self.candidate_labels]\n",
    "        scores_ordered = np.array(dic[\"scores\"])[indices_order].tolist()\n",
    "        return scores_ordered\n",
    "\n",
    "    def get_ordered_scores(self, sequence_to_classify):\n",
    "        if type(sequence_to_classify) == list:\n",
    "            res = []\n",
    "            for out in tqdm.tqdm(self.classifier(sequence_to_classify)):\n",
    "                res.append(out)\n",
    "        else:\n",
    "            res = self.classifier(sequence_to_classify)\n",
    "        if type(res) == list:\n",
    "            scores_ordered = list(map(self.order_scores, res))\n",
    "            scores_ordered = list(map(list, zip(*scores_ordered)))  # reorder\n",
    "        else:\n",
    "            scores_ordered = self.order_scores(res)\n",
    "        return scores_ordered\n",
    "\n",
    "    def get_label_names(self):\n",
    "        label_names = [l.split(\":\")[0].split(\" \")[0] for l in self.candidate_labels]\n",
    "        return label_names\n",
    "\n",
    "    def __call__(self, sequence_to_classify):\n",
    "        scores = self.get_ordered_scores(sequence_to_classify)\n",
    "        label_names = self.get_label_names()\n",
    "        return dict(zip(label_names, scores))\n",
    "\n",
    "    def visualize(self, name_to_score_dict, threshold=0.5, **kwargs):\n",
    "        fig, ax = plt.subplots()\n",
    "\n",
    "        cp = sns.color_palette()\n",
    "\n",
    "        scores_ordered = list(name_to_score_dict.values())\n",
    "        label_names = list(name_to_score_dict.keys())\n",
    "\n",
    "        colors = [cp[0] if s > 0.5 else cp[1] for s in scores_ordered]\n",
    "        ax.barh(label_names[::-1], scores_ordered[::-1], color=colors[::-1], **kwargs)\n",
    "        plt.xlim(left=0)\n",
    "        plt.tight_layout()\n",
    "        return fig, ax"
   ]
  },
  {
   "cell_type": "code",
   "execution_count": 2,
   "id": "18fe84da",
   "metadata": {},
   "outputs": [],
   "source": [
    "base_model = \"facebook/bart-large-mnli\"\n",
    "candidate_labels = [\n",
    "    \"Economic: costs, benefits, or other financial implications\",\n",
    "    \"Capacity and resources: availability of physical, human or financial resources, and capacity of current systems\",\n",
    "    \"Morality: religious or ethical implications\",\n",
    "    \"Fairness and equality: balance or distribution of rights, responsibilities, and resources\",\n",
    "    \"Legality, constitutionality and jurisprudence: rights, freedoms, and authority of individuals, corporations, and government\",\n",
    "    \"Policy prescription and evaluation: discussion of specific policies aimed at addressing problems\",\n",
    "    \"Crime and punishment: effectiveness and implications of laws and their enforcement\",\n",
    "    \"Security and defense: threats to welfare of the individual, community, or nation\",\n",
    "    \"Health and safety: health care, sanitation, public safety\",\n",
    "    \"Quality of life: threats and opportunities for the individual’s wealth, happiness, and well-being\",\n",
    "    \"Cultural identity: traditions, customs, or values of a social group in relation to a policy issue\",\n",
    "    \"Public opinion: attitudes and opinions of the general public, including polling and demographics\",\n",
    "    \"Political: considerations related to politics and politicians, including lobbying, elections, and attempts to sway voters\",\n",
    "    \"External regulation and reputation: international reputation or foreign policy of the U.S.\",\n",
    "    \"Other: any coherent group of frames not covered by the above categories\",\n",
    "]\n",
    "framing_label_model = FramingLabels(base_model, candidate_labels)"
   ]
  },
  {
   "cell_type": "code",
   "execution_count": 3,
   "id": "117fce73",
   "metadata": {},
   "outputs": [],
   "source": [
    "test_labels = [\"Other: any coherent group of frames not covered by the above categories\"]\n",
    "test_model = FramingLabels(base_model, test_labels)"
   ]
  },
  {
   "cell_type": "code",
   "execution_count": 4,
   "id": "61e1d9cb",
   "metadata": {},
   "outputs": [
    {
     "name": "stdout",
     "output_type": "stream",
     "text": [
      "0.022783730179071426\n",
      "0.02278364636003971\n"
     ]
    }
   ],
   "source": [
    "text = \"The government should provide free healthcare to all citizens.\"\n",
    "print(framing_label_model(text)[\"Other\"])\n",
    "print(test_model(text)[\"Other\"])\n",
    "assert np.allclose(framing_label_model(text)[\"Other\"], test_model(text)[\"Other\"])"
   ]
  }
 ],
 "metadata": {
  "kernelspec": {
   "display_name": "ml",
   "language": "python",
   "name": "python3"
  },
  "language_info": {
   "codemirror_mode": {
    "name": "ipython",
    "version": 3
   },
   "file_extension": ".py",
   "mimetype": "text/x-python",
   "name": "python",
   "nbconvert_exporter": "python",
   "pygments_lexer": "ipython3",
   "version": "3.12.3"
  }
 },
 "nbformat": 4,
 "nbformat_minor": 5
}
