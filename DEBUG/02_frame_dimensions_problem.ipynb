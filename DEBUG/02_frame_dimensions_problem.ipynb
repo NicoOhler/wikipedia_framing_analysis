{
 "cells": [
  {
   "cell_type": "code",
   "execution_count": 1,
   "id": "a0fcfcdb-2261-44e0-aaa2-d2d1acdd9fa6",
   "metadata": {},
   "outputs": [
    {
     "name": "stderr",
     "output_type": "stream",
     "text": [
      "d:\\miniconda\\envs\\ml\\Lib\\site-packages\\tqdm\\auto.py:21: TqdmWarning: IProgress not found. Please update jupyter and ipywidgets. See https://ipywidgets.readthedocs.io/en/stable/user_install.html\n",
      "  from .autonotebook import tqdm as notebook_tqdm\n"
     ]
    }
   ],
   "source": [
    "# | default_exp framedimensions\n",
    "# | export\n",
    "from sentence_transformers import SentenceTransformer\n",
    "import numpy as np\n",
    "import matplotlib.pyplot as plt\n",
    "\n",
    "\n",
    "class FramingDimensions:\n",
    "    def __init__(self, base_model, dimensions, pole_names, normalize=False):\n",
    "        self.encoder = SentenceTransformer(base_model)\n",
    "        self.dimensions = dimensions\n",
    "        self.dim_embs = self.encoder.encode(dimensions, normalize_embeddings=normalize)\n",
    "        self.pole_names = pole_names\n",
    "        self.axis_names = list(map(lambda x: x[0] + \"/\" + x[1], pole_names))\n",
    "        axis_embs = []\n",
    "        for pole1, pole2 in pole_names:\n",
    "            p1 = self.get_dimension_names().index(pole1)\n",
    "            p2 = self.get_dimension_names().index(pole2)\n",
    "            axis_emb = self.dim_embs[p1] - self.dim_embs[p2]\n",
    "            axis_embs.append(axis_emb)\n",
    "            # print norm of embeddings\n",
    "            print(f\"axis embedding norm: {np.linalg.norm(axis_emb)}\")  # not always 1\n",
    "            print(f\"pole 1 embedding norm: {np.linalg.norm(self.dim_embs[p1])}\")  # always 1\n",
    "            print(f\"pole 2 embedding norm: {np.linalg.norm(self.dim_embs[p2])}\")  # always 1\n",
    "        self.axis_embs = np.stack(axis_embs)\n",
    "        self.normalize = normalize\n",
    "\n",
    "    def get_dimension_names(self):\n",
    "        dimension_names = [l.split(\":\")[0].split(\" \")[0] for l in self.dimensions]\n",
    "        return dimension_names\n",
    "\n",
    "    def __call__(self, sequence_to_align):\n",
    "        embs = self.encoder.encode(sequence_to_align, normalize_embeddings=self.normalize)\n",
    "        print(f\"text embedding: {np.linalg.norm(embs)}\")\n",
    "        scores = embs @ self.axis_embs.T\n",
    "        named_scores = dict(zip(self.pole_names, scores.T))\n",
    "        return named_scores\n",
    "\n",
    "    def visualize(self, align_scores_df, **kwargs):\n",
    "        name_left = align_scores_df.columns.map(lambda x: x[1])\n",
    "        name_right = align_scores_df.columns.map(lambda x: x[0])\n",
    "        bias = align_scores_df.mean()\n",
    "        color = [\"b\" if x > 0 else \"r\" for x in bias]\n",
    "        inten = (align_scores_df.var().fillna(0) + 0.001) * 50_000\n",
    "        bounds = bias.abs().max() * 1.1\n",
    "\n",
    "        fig = plt.figure()\n",
    "        ax = fig.add_subplot(111)\n",
    "        plt.scatter(x=bias, y=name_left, s=inten, c=color)\n",
    "        plt.axvline(0)\n",
    "        plt.xlim(-bounds, bounds)\n",
    "        plt.gca().invert_yaxis()\n",
    "        axi = ax.twinx()\n",
    "        axi.set_ylim(ax.get_ylim())\n",
    "        axi.set_yticks(ax.get_yticks(), labels=name_right)\n",
    "        plt.tight_layout()\n",
    "        return fig"
   ]
  },
  {
   "cell_type": "code",
   "execution_count": 2,
   "id": "8758507c",
   "metadata": {},
   "outputs": [
    {
     "name": "stdout",
     "output_type": "stream",
     "text": [
      "axis embedding norm: 1.0412116050720215\n",
      "pole 1 embedding norm: 1.0\n",
      "pole 2 embedding norm: 1.0\n",
      "axis embedding norm: 1.0664228200912476\n",
      "pole 1 embedding norm: 1.0\n",
      "pole 2 embedding norm: 1.0\n",
      "axis embedding norm: 0.889381468296051\n",
      "pole 1 embedding norm: 1.0\n",
      "pole 2 embedding norm: 0.9999999403953552\n",
      "axis embedding norm: 1.1478166580200195\n",
      "pole 1 embedding norm: 0.9999999403953552\n",
      "pole 2 embedding norm: 1.0\n",
      "axis embedding norm: 1.1032711267471313\n",
      "pole 1 embedding norm: 0.9999999403953552\n",
      "pole 2 embedding norm: 0.9999999403953552\n"
     ]
    }
   ],
   "source": [
    "base_model = \"all-mpnet-base-v2\"\n",
    "dimensions = [\n",
    "    \"Care: ...acted with kindness, compassion, or empathy, or nurtured another person.\",\n",
    "    \"Harm: ...acted with cruelty, or hurt or harmed another person/animal and caused suffering.\",\n",
    "    \"Fairness: ...acted in a fair manner, promoting equality, justice, or rights.\",\n",
    "    \"Cheating: ...was unfair or cheated, or caused an injustice or engaged in fraud.\",\n",
    "    \"Loyalty: ...acted with fidelity, or as a team player, or was loyal or patriotic.\",\n",
    "    \"Betrayal: ...acted disloyal, betrayed someone, was disloyal, or was a traitor.\",\n",
    "    \"Authority: ...obeyed, or acted with respect for authority or tradition.\",\n",
    "    \"Subversion: ...disobeyed or showed disrespect, or engaged in subversion or caused chaos.\",\n",
    "    \"Sanctity: ...acted in a way that was wholesome or sacred, or displayed purity or sanctity.\",\n",
    "    \"Degredation: ...was depraved, degrading, impure, or unnatural.\",\n",
    "]\n",
    "pole_names = [\n",
    "    (\"Care\", \"Harm\"),\n",
    "    (\"Fairness\", \"Cheating\"),\n",
    "    (\"Loyalty\", \"Betrayal\"),\n",
    "    (\"Authority\", \"Subversion\"),\n",
    "    (\"Sanctity\", \"Degredation\"),\n",
    "]\n",
    "framing_dimen_model = FramingDimensions(base_model, dimensions, pole_names)"
   ]
  },
  {
   "cell_type": "code",
   "execution_count": 3,
   "id": "7ba6b40b",
   "metadata": {},
   "outputs": [
    {
     "name": "stdout",
     "output_type": "stream",
     "text": [
      "all-mpnet-base-v2\n",
      "Normalized:\n",
      "axis embedding norm: 1.0412116050720215\n",
      "pole 1 embedding norm: 1.0\n",
      "pole 2 embedding norm: 1.0\n",
      "axis embedding norm: 1.0664228200912476\n",
      "pole 1 embedding norm: 1.0\n",
      "pole 2 embedding norm: 1.0\n",
      "axis embedding norm: 0.889381468296051\n",
      "pole 1 embedding norm: 1.0\n",
      "pole 2 embedding norm: 0.9999999403953552\n",
      "axis embedding norm: 1.1478166580200195\n",
      "pole 1 embedding norm: 1.0\n",
      "pole 2 embedding norm: 1.0\n",
      "axis embedding norm: 1.1032711267471313\n",
      "pole 1 embedding norm: 1.0\n",
      "pole 2 embedding norm: 0.9999999403953552\n",
      "Unnormalized:\n",
      "axis embedding norm: 1.0412116050720215\n",
      "pole 1 embedding norm: 1.0\n",
      "pole 2 embedding norm: 1.0\n",
      "axis embedding norm: 1.0664228200912476\n",
      "pole 1 embedding norm: 1.0\n",
      "pole 2 embedding norm: 1.0\n",
      "axis embedding norm: 0.889381468296051\n",
      "pole 1 embedding norm: 1.0\n",
      "pole 2 embedding norm: 0.9999999403953552\n",
      "axis embedding norm: 1.1478166580200195\n",
      "pole 1 embedding norm: 0.9999999403953552\n",
      "pole 2 embedding norm: 1.0\n",
      "axis embedding norm: 1.1032711267471313\n",
      "pole 1 embedding norm: 0.9999999403953552\n",
      "pole 2 embedding norm: 0.9999999403953552\n",
      "paraphrase-MiniLM-L6-v2\n",
      "Normalized:\n",
      "axis embedding norm: 0.857053816318512\n",
      "pole 1 embedding norm: 1.0\n",
      "pole 2 embedding norm: 0.9999999403953552\n",
      "axis embedding norm: 1.037856936454773\n",
      "pole 1 embedding norm: 0.9999999403953552\n",
      "pole 2 embedding norm: 0.9999999403953552\n",
      "axis embedding norm: 0.9870851039886475\n",
      "pole 1 embedding norm: 0.9999999403953552\n",
      "pole 2 embedding norm: 0.9999999403953552\n",
      "axis embedding norm: 1.1859827041625977\n",
      "pole 1 embedding norm: 1.0\n",
      "pole 2 embedding norm: 0.9999999403953552\n",
      "axis embedding norm: 1.0575721263885498\n",
      "pole 1 embedding norm: 1.0\n",
      "pole 2 embedding norm: 1.0\n",
      "Unnormalized:\n",
      "axis embedding norm: 5.146266937255859\n",
      "pole 1 embedding norm: 5.939136028289795\n",
      "pole 2 embedding norm: 6.0670390129089355\n",
      "axis embedding norm: 6.228569030761719\n",
      "pole 1 embedding norm: 5.7621026039123535\n",
      "pole 2 embedding norm: 6.217212200164795\n",
      "axis embedding norm: 6.27550745010376\n",
      "pole 1 embedding norm: 6.595340251922607\n",
      "pole 2 embedding norm: 6.088479518890381\n",
      "axis embedding norm: 7.2666544914245605\n",
      "pole 1 embedding norm: 6.525498390197754\n",
      "pole 2 embedding norm: 5.674074649810791\n",
      "axis embedding norm: 5.92268705368042\n",
      "pole 1 embedding norm: 5.566040992736816\n",
      "pole 2 embedding norm: 5.633964538574219\n"
     ]
    }
   ],
   "source": [
    "base_models = [\"all-mpnet-base-v2\", \"paraphrase-MiniLM-L6-v2\"]\n",
    "for model in base_models:\n",
    "    print(model)\n",
    "    print(\"Normalized:\")\n",
    "    normalized_model = FramingDimensions(model, dimensions, pole_names, normalize=True)\n",
    "    print(\"Unnormalized:\")\n",
    "    unnormalized_model = FramingDimensions(model, dimensions, pole_names, normalize=False)"
   ]
  },
  {
   "cell_type": "code",
   "execution_count": 4,
   "id": "59888b96",
   "metadata": {},
   "outputs": [
    {
     "name": "stdout",
     "output_type": "stream",
     "text": [
      "text embedding: 1.0\n"
     ]
    },
    {
     "data": {
      "text/plain": [
       "{('Care', 'Harm'): 0.04329085,\n",
       " ('Fairness', 'Cheating'): 0.08081094,\n",
       " ('Loyalty', 'Betrayal'): -0.08368337,\n",
       " ('Authority', 'Subversion'): 0.14771362,\n",
       " ('Sanctity', 'Degredation'): -0.055849385}"
      ]
     },
     "execution_count": 4,
     "metadata": {},
     "output_type": "execute_result"
    }
   ],
   "source": [
    "normalized_model(\"I helped an old lady cross the street.\")"
   ]
  }
 ],
 "metadata": {
  "kernelspec": {
   "display_name": "ml",
   "language": "python",
   "name": "python3"
  },
  "language_info": {
   "codemirror_mode": {
    "name": "ipython",
    "version": 3
   },
   "file_extension": ".py",
   "mimetype": "text/x-python",
   "name": "python",
   "nbconvert_exporter": "python",
   "pygments_lexer": "ipython3",
   "version": "3.12.3"
  }
 },
 "nbformat": 4,
 "nbformat_minor": 5
}
